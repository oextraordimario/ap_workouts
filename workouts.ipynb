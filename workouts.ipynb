{
 "cells": [
  {
   "cell_type": "markdown",
   "metadata": {},
   "source": [
    "# Prep"
   ]
  },
  {
   "cell_type": "code",
   "execution_count": 62,
   "metadata": {},
   "outputs": [],
   "source": [
    "import pandas as pd\n",
    "import numpy as np\n",
    "import pprint"
   ]
  },
  {
   "cell_type": "markdown",
   "metadata": {},
   "source": [
    "## Functions"
   ]
  },
  {
   "cell_type": "markdown",
   "metadata": {},
   "source": [
    "### Extract"
   ]
  },
  {
   "cell_type": "code",
   "execution_count": 16,
   "metadata": {},
   "outputs": [],
   "source": [
    "def get_raw_workouts(fp):\n",
    "  all_workouts = []\n",
    "  counter = 0\n",
    "\n",
    "  with open(fp, encoding='utf-8') as f:\n",
    "    clean_strings = [line.strip() for line in f.readlines()]\n",
    "    no_empty_lines = list(filter(None, clean_strings))\n",
    "    no_empty_lines.pop(0) # tirar a primeira linha, que é vazia\n",
    "\n",
    "    single_workout = []\n",
    "    for line in no_empty_lines:\n",
    "      if 'Week' in line:\n",
    "        if counter > 0:\n",
    "          all_workouts.append(single_workout)\n",
    "          single_workout = []\n",
    "        counter += 1\n",
    "      single_workout.append(line)\n",
    "\n",
    "  return all_workouts"
   ]
  },
  {
   "cell_type": "markdown",
   "metadata": {},
   "source": [
    "# Extract"
   ]
  },
  {
   "cell_type": "code",
   "execution_count": 54,
   "metadata": {},
   "outputs": [],
   "source": [
    "raw_workouts = get_raw_workouts(r'G:\\My Drive\\Projetos\\workouts\\2024_08_25 Workouts.csv')\n",
    "raw_workouts.reverse()"
   ]
  },
  {
   "cell_type": "code",
   "execution_count": 55,
   "metadata": {},
   "outputs": [
    {
     "data": {
      "text/plain": [
       "['\"Day 2 - Costas Bíceps Triceps · Day 2 · Week 2 · Padrão · Deload\";\"2023-10-03 14:24 h\";\"1:07 hr\"',\n",
       " '\"1. Lat Pulldowns with Wide Overhand Grip · Cable · 12 reps\"',\n",
       " '#;KG;REPS',\n",
       " '1;55;15',\n",
       " '2;55;9',\n",
       " '3;55;8',\n",
       " '\"2. Chest-Supported Low Rows with Neutral Grip · Machine · 12 reps\"',\n",
       " '#;KG;REPS',\n",
       " '1;76;15',\n",
       " '2;80;15',\n",
       " '3;84;12',\n",
       " '\"3. Triceps Pushdowns · Cable · 12 reps\"',\n",
       " '#;KG;REPS',\n",
       " '1;35;12',\n",
       " '2;35;12',\n",
       " '3;35;8',\n",
       " '\"4. Curls · EZ bar · 12 reps\"',\n",
       " '#;KG;REPS',\n",
       " '1;16;15',\n",
       " '2;18;9',\n",
       " '3;18;8',\n",
       " '\"5. Bent-Over Rows · Barbell · 12 reps\"',\n",
       " '#;KG;REPS',\n",
       " '1;28;15',\n",
       " '2;30;12',\n",
       " '3;30;12',\n",
       " '\"6. Upright Rows · Barbell · 12 reps\"',\n",
       " '#;KG;REPS',\n",
       " '1;14;12',\n",
       " '2;14;12',\n",
       " '3;14;12',\n",
       " '\"7. Lat Pulldowns with Close Neutral Grip · Cable · 10 reps\"',\n",
       " '#;KG;REPS',\n",
       " '1;40;15',\n",
       " '2;45;11',\n",
       " '3;45;10']"
      ]
     },
     "execution_count": 55,
     "metadata": {},
     "output_type": "execute_result"
    }
   ],
   "source": [
    "raw_workouts[0]"
   ]
  },
  {
   "cell_type": "markdown",
   "metadata": {},
   "source": [
    "# Transform"
   ]
  },
  {
   "cell_type": "code",
   "execution_count": 104,
   "metadata": {},
   "outputs": [],
   "source": [
    "def get_workout_dict(raw_workout_list):\n",
    "    workout_listdict = []\n",
    "\n",
    "    for workout in raw_workout_list:\n",
    "        workout_dict = {\n",
    "            'description': f'{workout[0]}',\n",
    "            'exercises': []\n",
    "        }\n",
    "\n",
    "        current_exercise = {'exercise': '', 'data': []}\n",
    "        for line in workout[1:]:\n",
    "            if len(line) > 13:\n",
    "                if len(current_exercise['exercise']) > 0:\n",
    "                    workout_dict['exercises'].append(current_exercise)\n",
    "                current_exercise = {'exercise': line, 'data': []}\n",
    "            else:\n",
    "                current_exercise['data'].append(line)\n",
    "        workout_dict['exercises'].append(current_exercise) # necessary to append the last dict\n",
    "\n",
    "        workout_listdict.append(workout_dict)\n",
    "    \n",
    "    return workout_listdict"
   ]
  },
  {
   "cell_type": "code",
   "execution_count": 105,
   "metadata": {},
   "outputs": [],
   "source": [
    "llllist = get_workout_dict(raw_workouts)"
   ]
  },
  {
   "cell_type": "code",
   "execution_count": 112,
   "metadata": {},
   "outputs": [
    {
     "name": "stdout",
     "output_type": "stream",
     "text": [
      "{'description': '\"Day 2 - Costas Bíceps Triceps · Day 2 · Week 3 · Padrão · '\n",
      "                'Deload\";\"2023-10-18 16:21 h\";\"50 min\"',\n",
      " 'exercises': [{'exercise': '\"1. Lat Pulldowns with Wide Overhand Grip · Cable '\n",
      "                            '· 12 reps\"',\n",
      "                'data': ['#;KG;REPS', '1;60;12', '2;60;8', '3;60;6']},\n",
      "               {'exercise': '\"2. Chest-Supported Low Rows with Neutral Grip · '\n",
      "                            'Machine · 12 reps\"',\n",
      "                'data': ['#;KG;REPS', '1;90;12', '2;90;12', '3;90;11']},\n",
      "               {'exercise': '\"3. Triceps Pushdowns · Cable · 12 reps\"',\n",
      "                'data': ['#;KG;REPS', '1;35;15', '2;40;10', '3;40;8']},\n",
      "               {'exercise': '\"4. Curls · Dumbbells · 12 reps\"',\n",
      "                'data': ['#;KG;REPS', '1;9;12', '2;9;12', '3;9;10']},\n",
      "               {'exercise': '\"5. Rows with Wide Neutral Grip · Cable · 12 '\n",
      "                            'reps\"',\n",
      "                'data': ['#;KG;REPS', '1;35;15', '2;40;11', '3;40;9']},\n",
      "               {'exercise': '\"6. Lat Pulldowns with Close Neutral Grip · Cable '\n",
      "                            '· 12 reps\"',\n",
      "                'data': ['#;KG;REPS', '1;45;12', '2;45;12', '3;45;12']}]}\n"
     ]
    }
   ],
   "source": [
    "pprint.pprint(llllist[4], sort_dicts=False)"
   ]
  }
 ],
 "metadata": {
  "kernelspec": {
   "display_name": "Python 3",
   "language": "python",
   "name": "python3"
  },
  "language_info": {
   "codemirror_mode": {
    "name": "ipython",
    "version": 3
   },
   "file_extension": ".py",
   "mimetype": "text/x-python",
   "name": "python",
   "nbconvert_exporter": "python",
   "pygments_lexer": "ipython3",
   "version": "3.11.2"
  }
 },
 "nbformat": 4,
 "nbformat_minor": 2
}
