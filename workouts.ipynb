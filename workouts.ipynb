{
 "cells": [
  {
   "cell_type": "markdown",
   "metadata": {},
   "source": [
    "# Prep"
   ]
  },
  {
   "cell_type": "code",
   "execution_count": 1,
   "metadata": {},
   "outputs": [],
   "source": [
    "import pandas as pd\n",
    "import numpy as np"
   ]
  },
  {
   "cell_type": "markdown",
   "metadata": {},
   "source": [
    "## Functions"
   ]
  },
  {
   "cell_type": "markdown",
   "metadata": {},
   "source": [
    "### Extract"
   ]
  },
  {
   "cell_type": "code",
   "execution_count": 6,
   "metadata": {},
   "outputs": [],
   "source": [
    "def get_workouts(fp):\n",
    "  all_workouts = []\n",
    "  counter = 0\n",
    "\n",
    "  with open(fp, encoding='utf-8') as f:\n",
    "    clean_strings = [line.strip() for line in f.readlines()]\n",
    "    no_empty_lines = list(filter(None, clean_strings))\n",
    "    no_empty_lines.pop(0) # tirar a primeira linha, que é vazia\n",
    "\n",
    "    single_workout = []\n",
    "    for line in no_empty_lines:\n",
    "      if 'Week' in line:\n",
    "        if counter > 0:\n",
    "          all_workouts.append(single_workout)\n",
    "          single_workout = []\n",
    "        counter += 1\n",
    "      single_workout.append(line)\n",
    "\n",
    "  return all_workouts"
   ]
  },
  {
   "cell_type": "markdown",
   "metadata": {},
   "source": [
    "# Extract"
   ]
  },
  {
   "cell_type": "code",
   "execution_count": 18,
   "metadata": {},
   "outputs": [],
   "source": [
    "raw_workouts = get_workouts(r'G:\\My Drive\\Projetos\\workouts\\2024_08_25 Workouts.csv')\n",
    "raw_workouts.reverse()"
   ]
  },
  {
   "cell_type": "code",
   "execution_count": 25,
   "metadata": {},
   "outputs": [
    {
     "data": {
      "text/plain": [
       "['\"Day 2 - Costas Bíceps Triceps · Day 2 · Week 2 · Padrão · Deload\";\"2023-10-03 14:24 h\";\"1:07 hr\"',\n",
       " '\"1. Lat Pulldowns with Wide Overhand Grip · Cable · 12 reps\"',\n",
       " '#;KG;REPS',\n",
       " '1;55;15',\n",
       " '2;55;9',\n",
       " '3;55;8',\n",
       " '\"2. Chest-Supported Low Rows with Neutral Grip · Machine · 12 reps\"',\n",
       " '#;KG;REPS',\n",
       " '1;76;15',\n",
       " '2;80;15',\n",
       " '3;84;12',\n",
       " '\"3. Triceps Pushdowns · Cable · 12 reps\"',\n",
       " '#;KG;REPS',\n",
       " '1;35;12',\n",
       " '2;35;12',\n",
       " '3;35;8',\n",
       " '\"4. Curls · EZ bar · 12 reps\"',\n",
       " '#;KG;REPS',\n",
       " '1;16;15',\n",
       " '2;18;9',\n",
       " '3;18;8',\n",
       " '\"5. Bent-Over Rows · Barbell · 12 reps\"',\n",
       " '#;KG;REPS',\n",
       " '1;28;15',\n",
       " '2;30;12',\n",
       " '3;30;12',\n",
       " '\"6. Upright Rows · Barbell · 12 reps\"',\n",
       " '#;KG;REPS',\n",
       " '1;14;12',\n",
       " '2;14;12',\n",
       " '3;14;12',\n",
       " '\"7. Lat Pulldowns with Close Neutral Grip · Cable · 10 reps\"',\n",
       " '#;KG;REPS',\n",
       " '1;40;15',\n",
       " '2;45;11',\n",
       " '3;45;10']"
      ]
     },
     "execution_count": 25,
     "metadata": {},
     "output_type": "execute_result"
    }
   ],
   "source": [
    "raw_workouts[0]"
   ]
  },
  {
   "cell_type": "markdown",
   "metadata": {},
   "source": [
    "# Transform"
   ]
  }
 ],
 "metadata": {
  "kernelspec": {
   "display_name": "Python 3",
   "language": "python",
   "name": "python3"
  },
  "language_info": {
   "codemirror_mode": {
    "name": "ipython",
    "version": 3
   },
   "file_extension": ".py",
   "mimetype": "text/x-python",
   "name": "python",
   "nbconvert_exporter": "python",
   "pygments_lexer": "ipython3",
   "version": "3.11.2"
  }
 },
 "nbformat": 4,
 "nbformat_minor": 2
}
