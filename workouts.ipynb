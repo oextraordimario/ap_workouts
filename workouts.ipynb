{
 "cells": [
  {
   "cell_type": "markdown",
   "metadata": {},
   "source": [
    "# Prep"
   ]
  },
  {
   "cell_type": "code",
   "execution_count": 2,
   "metadata": {},
   "outputs": [],
   "source": [
    "import pandas as pd\n",
    "import numpy as np\n",
    "import pprint\n",
    "import re"
   ]
  },
  {
   "cell_type": "markdown",
   "metadata": {},
   "source": [
    "## Functions"
   ]
  },
  {
   "cell_type": "markdown",
   "metadata": {},
   "source": [
    "### Extract"
   ]
  },
  {
   "cell_type": "code",
   "execution_count": 3,
   "metadata": {},
   "outputs": [],
   "source": [
    "def get_raw_workouts(fp):\n",
    "  all_workouts = []\n",
    "  counter = 0\n",
    "\n",
    "  with open(fp, encoding='utf-8') as f:\n",
    "    clean_strings = [line.strip() for line in f.readlines()]\n",
    "    no_empty_lines = list(filter(None, clean_strings))\n",
    "    no_empty_lines.pop(0) # tirar a primeira linha, que é vazia\n",
    "\n",
    "    single_workout = []\n",
    "    for line in no_empty_lines:\n",
    "      if 'Week' in line or 'Standalone' in line:\n",
    "        if counter > 0:\n",
    "          all_workouts.append(single_workout)\n",
    "          single_workout = []\n",
    "        counter += 1\n",
    "      single_workout.append(line)\n",
    "\n",
    "  return all_workouts"
   ]
  },
  {
   "cell_type": "markdown",
   "metadata": {},
   "source": [
    "### Transform"
   ]
  },
  {
   "cell_type": "code",
   "execution_count": 97,
   "metadata": {},
   "outputs": [],
   "source": [
    "def get_workout_dict(raw_workout_list):\n",
    "    workout_listdict = []\n",
    "\n",
    "    workout_counter = 0\n",
    "    for workout in raw_workout_list:\n",
    "        #print(f\"Workout: {workout_counter}\") # use to find errors\n",
    "\n",
    "        workout_description = workout[0].split(';')\n",
    "        description_info = [item.strip() for item in workout_description[0].strip('\"').split('·')]\n",
    "\n",
    "        # \n",
    "        workout_dict = {\n",
    "            #'workout_counter': workout_counter, # use to find errors\n",
    "            #'raw_description': f'{workout[0]}', # use to check for data quality\n",
    "            'description': {\n",
    "                'day_name': description_info[0],\n",
    "                'day_number': description_info[1],\n",
    "                'week_number': '',\n",
    "                'plan_name': '',\n",
    "                'plan_function': '',\n",
    "                'start_time': workout_description[1].strip('\"'),\n",
    "                'duration': workout_description[2].strip('\"')\n",
    "            },\n",
    "            'exercises': [],\n",
    "            'clean_exercises': []\n",
    "        }\n",
    "\n",
    "        # Standalone workouts follow a different structure and need specific treatment\n",
    "        if 'Standalone' in workout[0]:\n",
    "            workout_dict['description']['week_number'] = '0'\n",
    "            workout_dict['description']['plan_name'] = 'Standalone'\n",
    "            workout_dict['description']['plan_function'] = description_info[2]\n",
    "        else:\n",
    "            workout_dict['description']['week_number'] = description_info[2]\n",
    "            workout_dict['description']['plan_name'] = description_info[3]\n",
    "            workout_dict['description']['plan_function'] = description_info[4]\n",
    "\n",
    "        # \n",
    "        raw_current_exercise = {\n",
    "            'exercise': '',\n",
    "            'data': []\n",
    "        }\n",
    "        raw_exercises = []\n",
    "        for line in workout[1:]:\n",
    "            if len(line) > 13:\n",
    "                if len(raw_current_exercise['exercise']) > 0:\n",
    "                    raw_exercises.append(raw_current_exercise)\n",
    "                raw_current_exercise = {'exercise': line, 'data': []}\n",
    "            else:\n",
    "                raw_current_exercise['data'].append(line)\n",
    "        raw_exercises.append(raw_current_exercise) # necessary to append the last dict\n",
    "\n",
    "        # \n",
    "        clean_exercises = []\n",
    "        for e in raw_exercises:\n",
    "            exercise_sets = [] # será que é isso \n",
    "            #print(f\"workout: {workout_counter}  {e}\") # use to find errors\n",
    "            exercise_info = [item.strip() for item in e['exercise'].strip('\"').split('·')]\n",
    "            order_and_name = exercise_info[0].split(\". \")\n",
    "\n",
    "            clean_exercise = {\n",
    "                #'info': exercise_info, # use to check data quality\n",
    "                'exercise_number': order_and_name[0],\n",
    "                'exercise_name': order_and_name[1],\n",
    "                'equipment': exercise_info[1],\n",
    "                'reps_goal': ''\n",
    "            }\n",
    "\n",
    "            if (len(exercise_info) > 2):\n",
    "                clean_exercise['reps_goal'] = exercise_info[2]\n",
    "            \n",
    "            # add set data to main dict\n",
    "            exercise_set_header = e['data'][0].split(';')\n",
    "            for set in e['data'][1:]:\n",
    "                complete_set = clean_exercise.copy()\n",
    "                \n",
    "                set_info = set.split(';')\n",
    "                #print(f\"{clean_exercise['exercise_order']}, {set_info[0]}\")\n",
    "                \n",
    "                #clean_exercise['test'] = exercise_set_header # use to check data quality\n",
    "                complete_set['set_number'] = set_info[0]\n",
    "\n",
    "                #print(complete_set)\n",
    "                exercise_sets.append(complete_set) # mudei aqui\n",
    "                \n",
    "            clean_exercises.append(exercise_sets) # veremos\n",
    "        \n",
    "\n",
    "        workout_dict['exercises'] = raw_exercises\n",
    "        workout_dict['clean_exercises'] = clean_exercises\n",
    "        workout_counter += 1\n",
    "\n",
    "        workout_listdict.append(workout_dict)\n",
    "    \n",
    "    return workout_listdict"
   ]
  },
  {
   "cell_type": "markdown",
   "metadata": {},
   "source": [
    "# Extract"
   ]
  },
  {
   "cell_type": "code",
   "execution_count": 33,
   "metadata": {},
   "outputs": [],
   "source": [
    "raw_workouts = get_raw_workouts(r'G:\\My Drive\\Projetos\\workouts\\2024_08_25 Workouts.csv')"
   ]
  },
  {
   "cell_type": "code",
   "execution_count": 43,
   "metadata": {},
   "outputs": [],
   "source": [
    "#raw_workouts[1]"
   ]
  },
  {
   "cell_type": "markdown",
   "metadata": {},
   "source": [
    "# Transform"
   ]
  },
  {
   "cell_type": "code",
   "execution_count": 108,
   "metadata": {},
   "outputs": [
    {
     "name": "stdout",
     "output_type": "stream",
     "text": [
      "{'description': {'day_name': 'CosBi',\n",
      "                 'day_number': 'Day 1',\n",
      "                 'week_number': 'Week 1',\n",
      "                 'plan_name': 'Transição',\n",
      "                 'plan_function': 'Deload',\n",
      "                 'start_time': '2024-08-20 16:21 h',\n",
      "                 'duration': '57 min'},\n",
      " 'exercises': [{'exercise': '\"1. Lat Pulldowns with Wide Overhand Grip · Cable '\n",
      "                            '· 12 reps\"',\n",
      "                'data': ['#;KG;REPS', '1;60;12', '2;60;12', '3;60;8']},\n",
      "               {'exercise': '\"2. One-Arm Rows · Dumbbells · 12 reps\"',\n",
      "                'data': ['#;KG;REPS', '1;20;12', '2;20;12', '3;20;12']},\n",
      "               {'exercise': '\"3. Reverse Butterfly with Wide Grip · Machine · '\n",
      "                            '12 reps\"',\n",
      "                'data': ['#;KG;REPS', '1;30;10', '2;30;10', '3;30;10']},\n",
      "               {'exercise': '\"4. Pullovers · Cable · 12 reps\"',\n",
      "                'data': ['#;KG;REPS', '1;47;12', '2;47;12', '3;47;11']},\n",
      "               {'exercise': '\"5. Seated Curls · Dumbbells · 12 reps\"',\n",
      "                'data': ['#;KG;REPS', '1;10;12', '2;10;12', '3;10;15']}],\n",
      " 'clean_exercises': [[{'exercise_number': '1',\n",
      "                       'exercise_name': 'Lat Pulldowns with Wide Overhand Grip',\n",
      "                       'equipment': 'Cable',\n",
      "                       'reps_goal': '12 reps',\n",
      "                       'set_number': '1'},\n",
      "                      {'exercise_number': '1',\n",
      "                       'exercise_name': 'Lat Pulldowns with Wide Overhand Grip',\n",
      "                       'equipment': 'Cable',\n",
      "                       'reps_goal': '12 reps',\n",
      "                       'set_number': '2'},\n",
      "                      {'exercise_number': '1',\n",
      "                       'exercise_name': 'Lat Pulldowns with Wide Overhand Grip',\n",
      "                       'equipment': 'Cable',\n",
      "                       'reps_goal': '12 reps',\n",
      "                       'set_number': '3'}],\n",
      "                     [{'exercise_number': '2',\n",
      "                       'exercise_name': 'One-Arm Rows',\n",
      "                       'equipment': 'Dumbbells',\n",
      "                       'reps_goal': '12 reps',\n",
      "                       'set_number': '1'},\n",
      "                      {'exercise_number': '2',\n",
      "                       'exercise_name': 'One-Arm Rows',\n",
      "                       'equipment': 'Dumbbells',\n",
      "                       'reps_goal': '12 reps',\n",
      "                       'set_number': '2'},\n",
      "                      {'exercise_number': '2',\n",
      "                       'exercise_name': 'One-Arm Rows',\n",
      "                       'equipment': 'Dumbbells',\n",
      "                       'reps_goal': '12 reps',\n",
      "                       'set_number': '3'}],\n",
      "                     [{'exercise_number': '3',\n",
      "                       'exercise_name': 'Reverse Butterfly with Wide Grip',\n",
      "                       'equipment': 'Machine',\n",
      "                       'reps_goal': '12 reps',\n",
      "                       'set_number': '1'},\n",
      "                      {'exercise_number': '3',\n",
      "                       'exercise_name': 'Reverse Butterfly with Wide Grip',\n",
      "                       'equipment': 'Machine',\n",
      "                       'reps_goal': '12 reps',\n",
      "                       'set_number': '2'},\n",
      "                      {'exercise_number': '3',\n",
      "                       'exercise_name': 'Reverse Butterfly with Wide Grip',\n",
      "                       'equipment': 'Machine',\n",
      "                       'reps_goal': '12 reps',\n",
      "                       'set_number': '3'}],\n",
      "                     [{'exercise_number': '4',\n",
      "                       'exercise_name': 'Pullovers',\n",
      "                       'equipment': 'Cable',\n",
      "                       'reps_goal': '12 reps',\n",
      "                       'set_number': '1'},\n",
      "                      {'exercise_number': '4',\n",
      "                       'exercise_name': 'Pullovers',\n",
      "                       'equipment': 'Cable',\n",
      "                       'reps_goal': '12 reps',\n",
      "                       'set_number': '2'},\n",
      "                      {'exercise_number': '4',\n",
      "                       'exercise_name': 'Pullovers',\n",
      "                       'equipment': 'Cable',\n",
      "                       'reps_goal': '12 reps',\n",
      "                       'set_number': '3'}],\n",
      "                     [{'exercise_number': '5',\n",
      "                       'exercise_name': 'Seated Curls',\n",
      "                       'equipment': 'Dumbbells',\n",
      "                       'reps_goal': '12 reps',\n",
      "                       'set_number': '1'},\n",
      "                      {'exercise_number': '5',\n",
      "                       'exercise_name': 'Seated Curls',\n",
      "                       'equipment': 'Dumbbells',\n",
      "                       'reps_goal': '12 reps',\n",
      "                       'set_number': '2'},\n",
      "                      {'exercise_number': '5',\n",
      "                       'exercise_name': 'Seated Curls',\n",
      "                       'equipment': 'Dumbbells',\n",
      "                       'reps_goal': '12 reps',\n",
      "                       'set_number': '3'}]]}\n"
     ]
    }
   ],
   "source": [
    "workouts_dict = get_workout_dict(raw_workouts)\n",
    "pprint.pprint(workouts_dict[2], sort_dicts=False)"
   ]
  },
  {
   "cell_type": "code",
   "execution_count": null,
   "metadata": {},
   "outputs": [
    {
     "name": "stdout",
     "output_type": "stream",
     "text": [
      "['1. Bench Press', 'Barbell', '12 reps']\n"
     ]
    }
   ],
   "source": [
    "pprint.pprint(workouts_dict[32]['clean_exercises'][0]['info'], sort_dicts=False)"
   ]
  },
  {
   "cell_type": "markdown",
   "metadata": {},
   "source": [
    "# Tests"
   ]
  },
  {
   "cell_type": "code",
   "execution_count": null,
   "metadata": {},
   "outputs": [],
   "source": [
    "#raw_workouts[2]"
   ]
  },
  {
   "cell_type": "code",
   "execution_count": null,
   "metadata": {},
   "outputs": [],
   "source": [
    "#pprint.pprint(workouts_dict[2], sort_dicts=False)"
   ]
  }
 ],
 "metadata": {
  "kernelspec": {
   "display_name": "Python 3",
   "language": "python",
   "name": "python3"
  },
  "language_info": {
   "codemirror_mode": {
    "name": "ipython",
    "version": 3
   },
   "file_extension": ".py",
   "mimetype": "text/x-python",
   "name": "python",
   "nbconvert_exporter": "python",
   "pygments_lexer": "ipython3",
   "version": "3.11.2"
  }
 },
 "nbformat": 4,
 "nbformat_minor": 2
}
