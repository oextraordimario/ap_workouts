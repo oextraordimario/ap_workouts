{
 "cells": [
  {
   "cell_type": "markdown",
   "metadata": {},
   "source": [
    "# Prep"
   ]
  },
  {
   "cell_type": "code",
   "execution_count": 226,
   "metadata": {},
   "outputs": [],
   "source": [
    "import pandas as pd\n",
    "import numpy as np\n",
    "import pprint\n",
    "import re"
   ]
  },
  {
   "cell_type": "code",
   "execution_count": 227,
   "metadata": {},
   "outputs": [],
   "source": [
    "WORKOUTS_FILE = r'C:\\Users\\User\\Documents\\GitHub\\ap_workouts\\raw_data\\uptodate_workouts.csv'\n",
    "SILVER_FOLDER = r'C:\\Users\\User\\Documents\\GitHub\\ap_workouts\\silver_tables'"
   ]
  },
  {
   "cell_type": "markdown",
   "metadata": {},
   "source": [
    "## Functions"
   ]
  },
  {
   "cell_type": "markdown",
   "metadata": {},
   "source": [
    "### Extract"
   ]
  },
  {
   "cell_type": "code",
   "execution_count": 228,
   "metadata": {},
   "outputs": [],
   "source": [
    "def get_raw_workouts(fp):\n",
    "  all_workouts = []\n",
    "  counter = 0\n",
    "\n",
    "  with open(fp, encoding='utf-8') as f:\n",
    "    clean_strings = [line.strip() for line in f.readlines()]\n",
    "    no_empty_lines = list(filter(None, clean_strings))\n",
    "    no_empty_lines.pop(0) # tirar a primeira linha, que é vazia\n",
    "\n",
    "    single_workout = []\n",
    "    for line in no_empty_lines:\n",
    "      if 'Week' in line or 'Standalone' in line:\n",
    "        if counter > 0:\n",
    "          all_workouts.append(single_workout)\n",
    "          single_workout = []\n",
    "        counter += 1\n",
    "      single_workout.append(line)\n",
    "\n",
    "  return all_workouts"
   ]
  },
  {
   "cell_type": "markdown",
   "metadata": {},
   "source": [
    "### Transform"
   ]
  },
  {
   "cell_type": "code",
   "execution_count": 229,
   "metadata": {},
   "outputs": [],
   "source": [
    "def get_workout_dict(raw_workout_list):\n",
    "    workout_listdict = []\n",
    "\n",
    "    workout_counter = 0\n",
    "    for workout in raw_workout_list:\n",
    "        #print(f\"Workout: {workout_counter}\") # use to find errors\n",
    "\n",
    "        workout_description = workout[0].split(';')\n",
    "        description_info = [item.strip() for item in workout_description[0].strip('\"').split('·')]\n",
    "\n",
    "        # \n",
    "        workout_dict = {\n",
    "            #'workout_counter': workout_counter, # use to find errors\n",
    "            #'raw_description': f'{workout[0]}', # use to check for data quality\n",
    "            'description': {\n",
    "                'id': re.sub(r'\\D', '', workout_description[1].strip('\"')), #re.sub(r'\\D', '', input_string) ## workout_description[1].strip('\"').strip('h').strip(' ')\n",
    "                'day_name': description_info[0],\n",
    "                'day_number': description_info[1],\n",
    "                'week_number': '',\n",
    "                'plan_name': '',\n",
    "                'plan_function': '',\n",
    "                'start_time': workout_description[1].strip('\"'),\n",
    "                'duration': workout_description[2].strip('\"')\n",
    "            },\n",
    "            #'raw_exercises': [],\n",
    "            'exercises': []\n",
    "        }\n",
    "\n",
    "        # Standalone workouts follow a different structure and need specific treatment\n",
    "        if 'Standalone' in workout[0]:\n",
    "            workout_dict['description']['week_number'] = '0'\n",
    "            workout_dict['description']['plan_name'] = 'Standalone'\n",
    "            workout_dict['description']['plan_function'] = description_info[2]\n",
    "        else:\n",
    "            workout_dict['description']['week_number'] = description_info[2]\n",
    "            workout_dict['description']['plan_name'] = description_info[3]\n",
    "            workout_dict['description']['plan_function'] = description_info[4]\n",
    "\n",
    "        # \n",
    "        raw_current_exercise = {\n",
    "            'exercise': '',\n",
    "            'data': []\n",
    "        }\n",
    "        raw_exercises = []\n",
    "        for line in workout[1:]:\n",
    "            if len(line) > 13:\n",
    "                if len(raw_current_exercise['exercise']) > 0:\n",
    "                    raw_exercises.append(raw_current_exercise)\n",
    "                raw_current_exercise = {'exercise': line, 'data': []}\n",
    "            else:\n",
    "                raw_current_exercise['data'].append(line)\n",
    "        raw_exercises.append(raw_current_exercise) # necessary to append the last dict\n",
    "\n",
    "        # \n",
    "        clean_exercises = []\n",
    "        for e in raw_exercises:\n",
    "            exercise_sets = []\n",
    "            #print(f\"workout: {workout_counter}  {e}\") # use to find errors\n",
    "\n",
    "            raw_exercise_header = e['exercise']\n",
    "            if ';' in e['exercise']:\n",
    "                split_header = raw_exercise_header.split(';')\n",
    "                exercise_info = [item.strip() for item in split_header[0].strip('\"').split('·')]\n",
    "                exercise_comments = split_header[1]\n",
    "            else:\n",
    "                exercise_info = [item.strip() for item in raw_exercise_header.strip('\"').split('·')]\n",
    "                exercise_comments = []\n",
    "            order_and_name = exercise_info[0].split(\". \")\n",
    "\n",
    "            clean_exercise = {\n",
    "                #'info': exercise_info, # use to check data quality\n",
    "                'workout_id': workout_dict['description']['id'],\n",
    "                'exercise_number': order_and_name[0],\n",
    "                'exercise_name': order_and_name[1],\n",
    "                'equipment': exercise_info[1],\n",
    "                'reps_goal': ''\n",
    "            }\n",
    "\n",
    "            if (len(exercise_info) > 2):\n",
    "                clean_exercise['reps_goal'] = exercise_info[2]\n",
    "            \n",
    "            # add set data to main dict\n",
    "            exercise_set_header = e['data'][0].split(';')\n",
    "            for set in e['data'][1:]:\n",
    "                complete_set = clean_exercise.copy()\n",
    "                set_info = set.split(';')\n",
    "                \n",
    "                #clean_exercise['test'] = exercise_set_header # use to check data quality\n",
    "                complete_set['set_number'] = set_info[0]\n",
    "\n",
    "                if 'KG' in exercise_set_header:\n",
    "                    complete_set['weigth'] = set_info[1]\n",
    "                    complete_set['quantity'] = set_info[2]\n",
    "                    complete_set['measure'] = 'reps'\n",
    "                elif ('KG' not in exercise_set_header and 'REPS' in exercise_set_header):\n",
    "                    complete_set['weigth'] = ''\n",
    "                    complete_set['quantity'] = set_info[1]\n",
    "                    complete_set['measure'] = 'reps'\n",
    "                elif ('KG' not in exercise_set_header and 'SECS' in exercise_set_header):\n",
    "                    complete_set['weigth'] = ''\n",
    "                    complete_set['quantity'] = set_info[1]\n",
    "                    complete_set['measure'] = 'secs'\n",
    "                elif ('KG' not in exercise_set_header and 'MINS' in exercise_set_header):\n",
    "                    complete_set['weigth'] = ''\n",
    "                    complete_set['quantity'] = set_info[1]\n",
    "                    complete_set['measure'] = 'mins'\n",
    "                else:\n",
    "                    complete_set['weigth'] = 'error'\n",
    "                    complete_set['quantity'] = '-1'\n",
    "                    complete_set['measure'] = 'error'\n",
    "                \n",
    "                complete_set['comments'] = exercise_comments\n",
    "\n",
    "                exercise_sets.append(complete_set)\n",
    "                \n",
    "            clean_exercises.append(exercise_sets)\n",
    "        \n",
    "        #workout_dict['raw_exercises'] = raw_exercises # not returned but still useful to check for data quality\n",
    "        workout_dict['exercises'] = [item for sublist in clean_exercises for item in sublist]\n",
    "        workout_counter += 1\n",
    "\n",
    "        workout_listdict.append(workout_dict)\n",
    "    \n",
    "    \n",
    "    return workout_listdict"
   ]
  },
  {
   "cell_type": "markdown",
   "metadata": {},
   "source": [
    "# Extract"
   ]
  },
  {
   "cell_type": "code",
   "execution_count": 230,
   "metadata": {},
   "outputs": [],
   "source": [
    "raw_workouts = get_raw_workouts(WORKOUTS_FILE)"
   ]
  },
  {
   "cell_type": "code",
   "execution_count": 231,
   "metadata": {},
   "outputs": [],
   "source": [
    "#raw_workouts[1]"
   ]
  },
  {
   "cell_type": "markdown",
   "metadata": {},
   "source": [
    "# Transform"
   ]
  },
  {
   "cell_type": "markdown",
   "metadata": {},
   "source": [
    "## Flattening"
   ]
  },
  {
   "cell_type": "code",
   "execution_count": 232,
   "metadata": {},
   "outputs": [],
   "source": [
    "normalized_workouts_dict = get_workout_dict(raw_workouts)"
   ]
  },
  {
   "cell_type": "code",
   "execution_count": 233,
   "metadata": {},
   "outputs": [],
   "source": [
    "#pprint.pprint(normalized_workouts_dict[1], sort_dicts=False) #['exercises']"
   ]
  },
  {
   "cell_type": "markdown",
   "metadata": {},
   "source": [
    "## Dataframes"
   ]
  },
  {
   "cell_type": "code",
   "execution_count": 234,
   "metadata": {},
   "outputs": [],
   "source": [
    "workouts_list = []\n",
    "exercises_log_list = []\n",
    "\n",
    "for i in normalized_workouts_dict:\n",
    "    workouts_list.append(i['description'])\n",
    "    exercises_log_list.append(i['exercises'])\n",
    "\n",
    "exercises_log_list = [item for sublist in exercises_log_list for item in sublist]\n",
    "\n",
    "df_workouts = pd.DataFrame.from_dict(workouts_list)\n",
    "df_exercises_log = pd.DataFrame.from_dict(exercises_log_list)\n"
   ]
  },
  {
   "cell_type": "markdown",
   "metadata": {},
   "source": [
    "# Save"
   ]
  },
  {
   "cell_type": "code",
   "execution_count": 239,
   "metadata": {},
   "outputs": [],
   "source": [
    "df_workouts.to_csv(f\"{SILVER_FOLDER}/workouts.csv\", sep=\";\", decimal=',', index=False)\n",
    "df_exercises_log.to_csv(f\"{SILVER_FOLDER}/exercises_log.csv\", sep=\";\", decimal=',', index=False)"
   ]
  },
  {
   "cell_type": "markdown",
   "metadata": {},
   "source": [
    "# Tests"
   ]
  },
  {
   "cell_type": "code",
   "execution_count": 236,
   "metadata": {},
   "outputs": [],
   "source": [
    "#df_exercises_log"
   ]
  },
  {
   "cell_type": "code",
   "execution_count": 237,
   "metadata": {},
   "outputs": [],
   "source": [
    "#raw_workouts[2]"
   ]
  },
  {
   "cell_type": "code",
   "execution_count": 238,
   "metadata": {},
   "outputs": [],
   "source": [
    "#pprint.pprint(workouts_dict[2], sort_dicts=False)"
   ]
  }
 ],
 "metadata": {
  "kernelspec": {
   "display_name": "Python 3",
   "language": "python",
   "name": "python3"
  },
  "language_info": {
   "codemirror_mode": {
    "name": "ipython",
    "version": 3
   },
   "file_extension": ".py",
   "mimetype": "text/x-python",
   "name": "python",
   "nbconvert_exporter": "python",
   "pygments_lexer": "ipython3",
   "version": "3.11.2"
  }
 },
 "nbformat": 4,
 "nbformat_minor": 2
}
