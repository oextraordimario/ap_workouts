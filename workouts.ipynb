{
 "cells": [
  {
   "cell_type": "markdown",
   "metadata": {},
   "source": [
    "# Prep"
   ]
  },
  {
   "cell_type": "code",
   "execution_count": 3,
   "metadata": {},
   "outputs": [],
   "source": [
    "import pandas as pd\n",
    "import numpy as np\n",
    "import pprint"
   ]
  },
  {
   "cell_type": "markdown",
   "metadata": {},
   "source": [
    "## Functions"
   ]
  },
  {
   "cell_type": "markdown",
   "metadata": {},
   "source": [
    "### Extract"
   ]
  },
  {
   "cell_type": "code",
   "execution_count": 4,
   "metadata": {},
   "outputs": [],
   "source": [
    "def get_raw_workouts(fp):\n",
    "  all_workouts = []\n",
    "  counter = 0\n",
    "\n",
    "  with open(fp, encoding='utf-8') as f:\n",
    "    clean_strings = [line.strip() for line in f.readlines()]\n",
    "    no_empty_lines = list(filter(None, clean_strings))\n",
    "    no_empty_lines.pop(0) # tirar a primeira linha, que é vazia\n",
    "\n",
    "    single_workout = []\n",
    "    for line in no_empty_lines:\n",
    "      if 'Week' in line:\n",
    "        if counter > 0:\n",
    "          all_workouts.append(single_workout)\n",
    "          single_workout = []\n",
    "        counter += 1\n",
    "      single_workout.append(line)\n",
    "\n",
    "  return all_workouts"
   ]
  },
  {
   "cell_type": "markdown",
   "metadata": {},
   "source": [
    "### Transform"
   ]
  },
  {
   "cell_type": "code",
   "execution_count": 10,
   "metadata": {},
   "outputs": [],
   "source": [
    "def get_workout_dict(raw_workout_list):\n",
    "    workout_listdict = []\n",
    "\n",
    "    for workout in raw_workout_list:\n",
    "        workout_description = workout[0].split(';')\n",
    "\n",
    "        workout_dict = {\n",
    "            #'raw_description': f'{workout[0]}', #só pra conferir por enquanto, retirar depois\n",
    "            'description': {\n",
    "                'info': workout_description[0],\n",
    "                'start_time': workout_description[1],\n",
    "                'duration': workout_description[2]\n",
    "            },\n",
    "            'exercises': []\n",
    "        }\n",
    "\n",
    "        current_exercise = {'exercise': '', 'data': []}\n",
    "        for line in workout[1:]:\n",
    "            if len(line) > 13:\n",
    "                if len(current_exercise['exercise']) > 0:\n",
    "                    workout_dict['exercises'].append(current_exercise)\n",
    "                current_exercise = {'exercise': line, 'data': []}\n",
    "            else:\n",
    "                current_exercise['data'].append(line)\n",
    "        workout_dict['exercises'].append(current_exercise) # necessary to append the last dict\n",
    "\n",
    "        workout_listdict.append(workout_dict)\n",
    "    \n",
    "    return workout_listdict"
   ]
  },
  {
   "cell_type": "markdown",
   "metadata": {},
   "source": [
    "# Extract"
   ]
  },
  {
   "cell_type": "code",
   "execution_count": 11,
   "metadata": {},
   "outputs": [],
   "source": [
    "raw_workouts = get_raw_workouts(r'G:\\My Drive\\Projetos\\workouts\\2024_08_25 Workouts.csv')\n",
    "raw_workouts.reverse()"
   ]
  },
  {
   "cell_type": "markdown",
   "metadata": {},
   "source": [
    "# Transform"
   ]
  },
  {
   "cell_type": "code",
   "execution_count": 12,
   "metadata": {},
   "outputs": [],
   "source": [
    "workouts_dict = get_workout_dict(raw_workouts)"
   ]
  },
  {
   "cell_type": "code",
   "execution_count": 13,
   "metadata": {},
   "outputs": [
    {
     "name": "stdout",
     "output_type": "stream",
     "text": [
      "{'description': {'info': '\"Day 2 - Costas Bíceps Triceps · Day 2 · Week 1 · '\n",
      "                         'Padrão2 · Deload\"',\n",
      "                 'start_time': '\"2023-11-06 16:39 h\"',\n",
      "                 'duration': '\"47 min\"'},\n",
      " 'exercises': [{'exercise': '\"1. Lat Pulldowns with Wide Overhand Grip · Cable '\n",
      "                            '· 15 reps\"',\n",
      "                'data': ['#;KG;REPS', '1;45;17', '2;45;17', '3;45;15']},\n",
      "               {'exercise': '\"2. Chest-Supported Low Rows with Neutral Grip · '\n",
      "                            'Machine · 15 reps\"',\n",
      "                'data': ['#;KG;REPS', '1;80;15', '2;80;15', '3;80;15']},\n",
      "               {'exercise': '\"3. Triceps Pushdowns · Cable · 15 reps\"',\n",
      "                'data': ['#;KG;REPS', '1;25;17', '2;25;17', '3;25;15']},\n",
      "               {'exercise': '\"4. Curls · EZ bar · 15 reps\"',\n",
      "                'data': ['#;KG;REPS', '1;14;17', '2;14;17', '3;14;15']},\n",
      "               {'exercise': '\"5. Rows with Wide Neutral Grip · Cable · 15 '\n",
      "                            'reps\"',\n",
      "                'data': ['#;KG;REPS', '1;25;20', '2;25;20', '3;25;20']},\n",
      "               {'exercise': '\"6. Curls · Dumbbells · 15 reps\"',\n",
      "                'data': ['#;KG;REPS', '1;6;15', '2;6;15', '3;6;15']},\n",
      "               {'exercise': '\"7. Triceps Pushdowns with Rope · Cable · 15 '\n",
      "                            'reps\"',\n",
      "                'data': ['#;KG;REPS', '1;20;17', '2;20;17', '3;20;17']}]}\n"
     ]
    }
   ],
   "source": [
    "pprint.pprint(workouts_dict[12], sort_dicts=False)"
   ]
  }
 ],
 "metadata": {
  "kernelspec": {
   "display_name": "Python 3",
   "language": "python",
   "name": "python3"
  },
  "language_info": {
   "codemirror_mode": {
    "name": "ipython",
    "version": 3
   },
   "file_extension": ".py",
   "mimetype": "text/x-python",
   "name": "python",
   "nbconvert_exporter": "python",
   "pygments_lexer": "ipython3",
   "version": "3.11.2"
  }
 },
 "nbformat": 4,
 "nbformat_minor": 2
}
