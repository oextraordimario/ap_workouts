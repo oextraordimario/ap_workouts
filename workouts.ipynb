{
 "cells": [
  {
   "cell_type": "markdown",
   "metadata": {},
   "source": [
    "# Prep"
   ]
  },
  {
   "cell_type": "code",
   "execution_count": 13,
   "metadata": {},
   "outputs": [],
   "source": [
    "import pandas as pd\n",
    "import numpy as np\n",
    "import pprint\n",
    "import re"
   ]
  },
  {
   "cell_type": "markdown",
   "metadata": {},
   "source": [
    "## Functions"
   ]
  },
  {
   "cell_type": "markdown",
   "metadata": {},
   "source": [
    "### Extract"
   ]
  },
  {
   "cell_type": "code",
   "execution_count": 2,
   "metadata": {},
   "outputs": [],
   "source": [
    "def get_raw_workouts(fp):\n",
    "  all_workouts = []\n",
    "  counter = 0\n",
    "\n",
    "  with open(fp, encoding='utf-8') as f:\n",
    "    clean_strings = [line.strip() for line in f.readlines()]\n",
    "    no_empty_lines = list(filter(None, clean_strings))\n",
    "    no_empty_lines.pop(0) # tirar a primeira linha, que é vazia\n",
    "\n",
    "    single_workout = []\n",
    "    for line in no_empty_lines:\n",
    "      if 'Week' in line:\n",
    "        if counter > 0:\n",
    "          all_workouts.append(single_workout)\n",
    "          single_workout = []\n",
    "        counter += 1\n",
    "      single_workout.append(line)\n",
    "\n",
    "  return all_workouts"
   ]
  },
  {
   "cell_type": "markdown",
   "metadata": {},
   "source": [
    "### Transform"
   ]
  },
  {
   "cell_type": "code",
   "execution_count": 54,
   "metadata": {},
   "outputs": [],
   "source": [
    "def get_workout_dict(raw_workout_list):\n",
    "    workout_listdict = []\n",
    "\n",
    "    for workout in raw_workout_list:\n",
    "        workout_description = workout[0].split(';')\n",
    "        description_info = [item.strip() for item in workout_description[0].strip('\"').split('·')]\n",
    "\n",
    "        workout_dict = {\n",
    "            #'raw_description': f'{workout[0]}', #só pra conferir por enquanto, retirar depois\n",
    "            'description': {\n",
    "                'day_name': description_info[0],\n",
    "                'day_number': description_info[1],\n",
    "                'week_number': description_info[2],\n",
    "                'plan_name': description_info[3],\n",
    "                'plan_function': description_info[4],\n",
    "                'start_time': workout_description[1].strip('\"'),\n",
    "                'duration': workout_description[2].strip('\"')\n",
    "            },\n",
    "            'exercises': []\n",
    "        }\n",
    "\n",
    "        current_exercise = {'exercise': '', 'data': []}\n",
    "        for line in workout[1:]:\n",
    "            if len(line) > 13:\n",
    "                if len(current_exercise['exercise']) > 0:\n",
    "                    workout_dict['exercises'].append(current_exercise)\n",
    "                current_exercise = {'exercise': line, 'data': []}\n",
    "            else:\n",
    "                current_exercise['data'].append(line)\n",
    "        workout_dict['exercises'].append(current_exercise) # necessary to append the last dict\n",
    "\n",
    "        workout_listdict.append(workout_dict)\n",
    "    \n",
    "    return workout_listdict"
   ]
  },
  {
   "cell_type": "markdown",
   "metadata": {},
   "source": [
    "# Extract"
   ]
  },
  {
   "cell_type": "code",
   "execution_count": 22,
   "metadata": {},
   "outputs": [],
   "source": [
    "raw_workouts = get_raw_workouts(r'G:\\My Drive\\Projetos\\workouts\\2024_08_25 Workouts.csv')\n",
    "raw_workouts.reverse()"
   ]
  },
  {
   "cell_type": "markdown",
   "metadata": {},
   "source": [
    "# Transform"
   ]
  },
  {
   "cell_type": "code",
   "execution_count": 57,
   "metadata": {},
   "outputs": [
    {
     "name": "stdout",
     "output_type": "stream",
     "text": [
      "{'raw_description': '\"Peito Ombro Triceps · Day 1 · Week 5 · Padrão3 · '\n",
      "                    'Deload\";\"2024-01-05 11:58 h\";\"1:05 hr\"',\n",
      " 'description': {'day_name': 'Peito Ombro Triceps',\n",
      "                 'day_number': 'Day 1',\n",
      "                 'week_number': 'Week 5',\n",
      "                 'plan_name': 'Padrão3',\n",
      "                 'plan_function': 'Deload',\n",
      "                 'start_time': '2024-01-05 11:58 h',\n",
      "                 'duration': '1:05 hr'},\n",
      " 'exercises': [{'exercise': '\"1. Bench Press · Barbell · 12 reps\"',\n",
      "                'data': ['#;KG;REPS', '1;36;12', '2;36;12', '3;36;12']},\n",
      "               {'exercise': '\"2. Incline Bench Press · Barbell · 12 reps\"',\n",
      "                'data': ['#;KG;REPS', '1;24;12', '2;24;12', '3;24;12']},\n",
      "               {'exercise': '\"3. Seated Shoulder Press · Barbell · 12 reps\"',\n",
      "                'data': ['#;KG;REPS', '1;16;12', '2;16;12', '3;16;12']},\n",
      "               {'exercise': '\"4. Butterfly with Wide Grip · Machine · 12 reps\"',\n",
      "                'data': ['#;KG;REPS', '1;40;12', '2;40;12', '3;40;11']},\n",
      "               {'exercise': '\"5. Triceps Pushdowns · Cable · 12 reps\"',\n",
      "                'data': ['#;KG;REPS', '1;35;12', '2;35;12', '3;35;11']},\n",
      "               {'exercise': '\"6. Seated Lateral Raises · Dumbbells · 12 reps\"',\n",
      "                'data': ['#;KG;REPS', '1;6;12', '2;6;12', '3;6;13']},\n",
      "               {'exercise': '\"7. Triceps Pushdowns with Rope · Cable · 10 '\n",
      "                            'reps\"',\n",
      "                'data': ['#;KG;REPS', '1;25;12', '2;25;12', '3;25;11']},\n",
      "               {'exercise': '\"8. Russian Twists · Bodyweight · 12 reps\"',\n",
      "                'data': ['#;KG;REPS', '1;+8;10', '2;+8;10', '3;+8;10']}]}\n"
     ]
    }
   ],
   "source": [
    "workouts_dict = get_workout_dict(raw_workouts)\n",
    "pprint.pprint(workouts_dict[32], sort_dicts=False)"
   ]
  }
 ],
 "metadata": {
  "kernelspec": {
   "display_name": "Python 3",
   "language": "python",
   "name": "python3"
  },
  "language_info": {
   "codemirror_mode": {
    "name": "ipython",
    "version": 3
   },
   "file_extension": ".py",
   "mimetype": "text/x-python",
   "name": "python",
   "nbconvert_exporter": "python",
   "pygments_lexer": "ipython3",
   "version": "3.12.5"
  }
 },
 "nbformat": 4,
 "nbformat_minor": 2
}
