{
 "cells": [
  {
   "cell_type": "markdown",
   "metadata": {},
   "source": [
    "# Prep"
   ]
  },
  {
   "cell_type": "code",
   "execution_count": 301,
   "metadata": {},
   "outputs": [],
   "source": [
    "import pandas as pd\n",
    "import numpy as np\n",
    "import pprint\n",
    "import re"
   ]
  },
  {
   "cell_type": "code",
   "execution_count": 302,
   "metadata": {},
   "outputs": [],
   "source": [
    "WORKOUTS_FILE = r'C:\\Users\\User\\Documents\\GitHub\\ap_workouts\\b1-bronze\\workouts.csv'\n",
    "PLANS_FILE = r'C:\\Users\\User\\Documents\\GitHub\\ap_workouts\\b1-bronze\\plans.csv'\n",
    "CUSTOMEXERCISES_FILE = r'C:\\Users\\User\\Documents\\GitHub\\ap_workouts\\b1-bronze\\custom_exercises.csv'\n",
    "SILVER_FOLDER = r'C:\\Users\\User\\Documents\\GitHub\\ap_workouts\\b2-silver'\n",
    "GOLD_FOLDER = r'C:\\Users\\User\\Documents\\GitHub\\ap_workouts\\b3-gold'"
   ]
  },
  {
   "cell_type": "markdown",
   "metadata": {},
   "source": [
    "## Functions"
   ]
  },
  {
   "cell_type": "markdown",
   "metadata": {},
   "source": [
    "### Extract"
   ]
  },
  {
   "cell_type": "code",
   "execution_count": 303,
   "metadata": {},
   "outputs": [],
   "source": [
    "def get_raw_workouts(fp):\n",
    "  all_workouts = []\n",
    "  counter = 0\n",
    "\n",
    "  with open(fp, encoding='utf-8') as f:\n",
    "    clean_strings = [line.strip() for line in f.readlines()]\n",
    "    no_empty_lines = list(filter(None, clean_strings))\n",
    "    no_empty_lines.pop(0) # tirar a primeira linha, que é vazia\n",
    "\n",
    "    single_workout = []\n",
    "    for line in no_empty_lines:\n",
    "      if 'Week' in line or 'Standalone' in line:\n",
    "        if counter > 0:\n",
    "          all_workouts.append(single_workout)\n",
    "          single_workout = []\n",
    "        counter += 1\n",
    "      single_workout.append(line)\n",
    "\n",
    "  return all_workouts"
   ]
  },
  {
   "cell_type": "markdown",
   "metadata": {},
   "source": [
    "### Transform"
   ]
  },
  {
   "cell_type": "markdown",
   "metadata": {},
   "source": [
    "#### Flatten - Big Function"
   ]
  },
  {
   "cell_type": "code",
   "execution_count": 304,
   "metadata": {},
   "outputs": [],
   "source": [
    "def get_workout_dict(raw_workout_list):\n",
    "    workout_listdict = []\n",
    "\n",
    "    workout_counter = 0\n",
    "    for workout in raw_workout_list:\n",
    "        #print(f\"Workout: {workout_counter}\") # use to find errors\n",
    "\n",
    "        workout_description = workout[0].split(';')\n",
    "        description_info = [item.strip() for item in workout_description[0].strip('\"').split('·')]\n",
    "\n",
    "        # \n",
    "        workout_dict = {\n",
    "            #'workout_counter': workout_counter, # use to find errors\n",
    "            #'raw_description': f'{workout[0]}', # use to check for data quality\n",
    "            'description': {\n",
    "                'id': re.sub(r'\\D', '', workout_description[1].strip('\"')), #re.sub(r'\\D', '', input_string) ## workout_description[1].strip('\"').strip('h').strip(' ')\n",
    "                'day_name': description_info[0],\n",
    "                'day_number': description_info[1],\n",
    "                'week_number': '',\n",
    "                'plan_name': '',\n",
    "                'plan_function': '',\n",
    "                'start_time': workout_description[1].strip('\"'),\n",
    "                'duration': workout_description[2].strip('\"')\n",
    "            },\n",
    "            #'raw_exercises': [],\n",
    "            'exercises': []\n",
    "        }\n",
    "\n",
    "        # Standalone workouts follow a different structure and need specific treatment\n",
    "        if 'Standalone' in workout[0]:\n",
    "            workout_dict['description']['week_number'] = '0'\n",
    "            workout_dict['description']['plan_name'] = 'Standalone'\n",
    "            try:\n",
    "                workout_dict['description']['plan_function'] = description_info[2]\n",
    "            except:\n",
    "                workout_dict['description']['plan_function'] = ''\n",
    "        else:\n",
    "            workout_dict['description']['week_number'] = description_info[2]\n",
    "            workout_dict['description']['plan_name'] = description_info[3]\n",
    "            try:\n",
    "                workout_dict['description']['plan_function'] = description_info[4]\n",
    "            except:\n",
    "                workout_dict['description']['plan_function'] = ''\n",
    "\n",
    "        # \n",
    "        raw_current_exercise = {\n",
    "            'exercise': '',\n",
    "            'data': []\n",
    "        }\n",
    "        raw_exercises = []\n",
    "        for line in workout[1:]:\n",
    "            if len(line) > 13:\n",
    "                if len(raw_current_exercise['exercise']) > 0:\n",
    "                    raw_exercises.append(raw_current_exercise)\n",
    "                raw_current_exercise = {'exercise': line, 'data': []}\n",
    "            else:\n",
    "                raw_current_exercise['data'].append(line)\n",
    "        raw_exercises.append(raw_current_exercise) # necessary to append the last dict\n",
    "\n",
    "        # \n",
    "        clean_exercises = []\n",
    "        for e in raw_exercises:\n",
    "            exercise_sets = []\n",
    "            #print(f\"workout: {workout_counter}  {e}\") # use to find errors\n",
    "\n",
    "            raw_exercise_header = e['exercise']\n",
    "            if ';' in e['exercise']:\n",
    "                split_header = raw_exercise_header.split(';')\n",
    "                exercise_info = [item.strip() for item in split_header[0].strip('\"').split('·')]\n",
    "                exercise_comments = split_header[1]\n",
    "            else:\n",
    "                exercise_info = [item.strip() for item in raw_exercise_header.strip('\"').split('·')]\n",
    "                exercise_comments = ''\n",
    "            order_and_name = exercise_info[0].split(\". \")\n",
    "\n",
    "            clean_exercise = {\n",
    "                #'info': exercise_info, # use to check data quality\n",
    "                'workout_id': workout_dict['description']['id'],\n",
    "                'exercise_number': order_and_name[0],\n",
    "                'exercise_name': order_and_name[1],\n",
    "                'equipment': exercise_info[1],\n",
    "                'goal': np.nan\n",
    "            }\n",
    "\n",
    "            if (len(exercise_info) > 2):\n",
    "                clean_exercise['goal'] = exercise_info[2]\n",
    "            \n",
    "            # add set data to main dict\n",
    "            exercise_set_header = e['data'][0].split(';')\n",
    "            for set in e['data'][1:]:\n",
    "                complete_set = clean_exercise.copy()\n",
    "                set_info = set.split(';')\n",
    "                \n",
    "                #clean_exercise['test'] = exercise_set_header # use to check data quality\n",
    "                complete_set['set_number'] = set_info[0]\n",
    "\n",
    "                if 'KG' in exercise_set_header:\n",
    "                    complete_set['weight'] = set_info[1]\n",
    "                    complete_set['quantity'] = set_info[2]\n",
    "                    complete_set['measure'] = 'reps'\n",
    "                elif ('KG' not in exercise_set_header and 'REPS' in exercise_set_header):\n",
    "                    complete_set['weight'] = ''\n",
    "                    complete_set['quantity'] = set_info[1]\n",
    "                    complete_set['measure'] = 'reps'\n",
    "                elif ('KG' not in exercise_set_header and 'SECS' in exercise_set_header):\n",
    "                    complete_set['weight'] = ''\n",
    "                    complete_set['quantity'] = set_info[1]\n",
    "                    complete_set['measure'] = 'secs'\n",
    "                elif ('KG' not in exercise_set_header and 'MINS' in exercise_set_header):\n",
    "                    complete_set['weight'] = ''\n",
    "                    complete_set['quantity'] = set_info[1]\n",
    "                    complete_set['measure'] = 'mins'\n",
    "                else:\n",
    "                    complete_set['weight'] = 'error'\n",
    "                    complete_set['quantity'] = '-1'\n",
    "                    complete_set['measure'] = 'error'\n",
    "                \n",
    "                complete_set['comments'] = exercise_comments\n",
    "\n",
    "                exercise_sets.append(complete_set)\n",
    "                \n",
    "            clean_exercises.append(exercise_sets)\n",
    "        \n",
    "        #workout_dict['raw_exercises'] = raw_exercises # not returned but still useful to check for data quality\n",
    "        workout_dict['exercises'] = [item for sublist in clean_exercises for item in sublist]\n",
    "        workout_counter += 1\n",
    "\n",
    "        workout_listdict.append(workout_dict)\n",
    "    \n",
    "    \n",
    "    return workout_listdict"
   ]
  },
  {
   "cell_type": "markdown",
   "metadata": {},
   "source": [
    "#### Others"
   ]
  },
  {
   "cell_type": "code",
   "execution_count": 305,
   "metadata": {},
   "outputs": [],
   "source": [
    "def extract_day_or_week(value):\n",
    "    if value == \"Standalone workout\":\n",
    "        return 0\n",
    "    elif value.split()[-1].isdigit():\n",
    "        return int(value.split()[-1])"
   ]
  },
  {
   "cell_type": "code",
   "execution_count": 306,
   "metadata": {},
   "outputs": [],
   "source": [
    "def convert_to_minutes(duration):\n",
    "    if \"hr\" in duration:\n",
    "        if ':' in duration:\n",
    "            hours, minutes = duration.replace(\" hr\", \"\").split(\":\")\n",
    "            return int(hours) * 60 + int(minutes)\n",
    "        else:\n",
    "            return int(duration.replace(\" hr\", \"\")) * 60\n",
    "    elif \"min\" in duration:\n",
    "        return int(duration.replace(\" min\", \"\"))\n",
    "    else:\n",
    "        return None"
   ]
  },
  {
   "cell_type": "code",
   "execution_count": 307,
   "metadata": {},
   "outputs": [],
   "source": [
    "def convert_to_seconds(duration):\n",
    "    if pd.isna(duration) or duration == '' or duration == 0:\n",
    "        return 0\n",
    "    elif ':' in duration:\n",
    "        minutes, seconds = duration.split(\":\")\n",
    "        return int(minutes) * 60 + int(seconds)\n",
    "    else:\n",
    "        return int(duration) * 60"
   ]
  },
  {
   "cell_type": "code",
   "execution_count": 308,
   "metadata": {},
   "outputs": [],
   "source": [
    "def strip_measure(value):\n",
    "    if (pd.isna(value) or value == ''):\n",
    "        return 0\n",
    "    else:\n",
    "        return value.split()[0]"
   ]
  },
  {
   "cell_type": "markdown",
   "metadata": {},
   "source": [
    "# Extract"
   ]
  },
  {
   "cell_type": "code",
   "execution_count": 309,
   "metadata": {},
   "outputs": [],
   "source": [
    "raw_workouts = get_raw_workouts(WORKOUTS_FILE)"
   ]
  },
  {
   "cell_type": "markdown",
   "metadata": {},
   "source": [
    "# Transform"
   ]
  },
  {
   "cell_type": "markdown",
   "metadata": {},
   "source": [
    "## Flattening"
   ]
  },
  {
   "cell_type": "code",
   "execution_count": 310,
   "metadata": {},
   "outputs": [],
   "source": [
    "normalized_workouts_dict = get_workout_dict(raw_workouts)"
   ]
  },
  {
   "cell_type": "code",
   "execution_count": 311,
   "metadata": {},
   "outputs": [],
   "source": [
    "#pprint.pprint(normalized_workouts_dict[1], sort_dicts=False) #['exercises']"
   ]
  },
  {
   "cell_type": "markdown",
   "metadata": {},
   "source": [
    "## Dataframes"
   ]
  },
  {
   "cell_type": "code",
   "execution_count": 312,
   "metadata": {},
   "outputs": [],
   "source": [
    "workouts_list = []\n",
    "exercises_log_list = []\n",
    "\n",
    "for i in normalized_workouts_dict:\n",
    "    workouts_list.append(i['description'])\n",
    "    exercises_log_list.append(i['exercises'])\n",
    "\n",
    "exercises_log_list = [item for sublist in exercises_log_list for item in sublist]\n",
    "\n",
    "df_workouts_orig = pd.DataFrame.from_dict(workouts_list)\n",
    "df_exerciseslog_orig = pd.DataFrame.from_dict(exercises_log_list)\n"
   ]
  },
  {
   "cell_type": "markdown",
   "metadata": {},
   "source": [
    "## Exercises Ref"
   ]
  },
  {
   "cell_type": "markdown",
   "metadata": {},
   "source": [
    "### Custom Exercises"
   ]
  },
  {
   "cell_type": "code",
   "execution_count": 313,
   "metadata": {},
   "outputs": [],
   "source": [
    "df_customexercises_raw = pd.read_csv(CUSTOMEXERCISES_FILE, sep=';')"
   ]
  },
  {
   "cell_type": "code",
   "execution_count": 314,
   "metadata": {},
   "outputs": [],
   "source": [
    "df_customexercises_clean = (\n",
    "    df_customexercises_raw\n",
    "    .rename(columns={\n",
    "        'NAME': 'exercise_name',\n",
    "        'EQUIPMENT': 'equipment',\n",
    "        'MUSCLE': 'main_muscle',\n",
    "        'AUXILIARY MUSCLES': 'auxiliary_muscles',\n",
    "        'TYPE': 'size',\n",
    "        'METRICS': 'metrics',\n",
    "        'BODYWEIGHT': 'bodyweight',\n",
    "        'NOTES': 'notes',\n",
    "        })\n",
    "    .assign(\n",
    "        custom_exercise = True,\n",
    "        muscle_group = '',\n",
    "        exercise_group = ''\n",
    "        )\n",
    "    .sort_values(by='exercise_name').reset_index(drop=True)\n",
    ")"
   ]
  },
  {
   "cell_type": "code",
   "execution_count": 315,
   "metadata": {},
   "outputs": [],
   "source": [
    "df_customexercises_clean = df_customexercises_clean[[\n",
    "    'custom_exercise',\n",
    "    'exercise_name',\n",
    "    'equipment',\n",
    "    'muscle_group',\n",
    "    'exercise_group',\n",
    "    'main_muscle',\n",
    "    'auxiliary_muscles',\n",
    "    'size',\n",
    "    'metrics',\n",
    "    'bodyweight',\n",
    "    'notes',\n",
    "]]"
   ]
  },
  {
   "cell_type": "code",
   "execution_count": 316,
   "metadata": {},
   "outputs": [],
   "source": [
    "#df_customexercises_clean"
   ]
  },
  {
   "cell_type": "markdown",
   "metadata": {},
   "source": [
    "### Standard Exercises"
   ]
  },
  {
   "cell_type": "code",
   "execution_count": 317,
   "metadata": {},
   "outputs": [],
   "source": [
    "df_all_exercises = (\n",
    "    df_exerciseslog_orig[['exercise_name', 'equipment', 'workout_id']]\n",
    "    .groupby(['exercise_name', 'equipment']).count().reset_index()\n",
    "    .drop(columns=['workout_id'])\n",
    ").merge(df_customexercises_clean[['exercise_name', 'custom_exercise']], how=\"left\", on='exercise_name')"
   ]
  },
  {
   "cell_type": "code",
   "execution_count": 318,
   "metadata": {},
   "outputs": [],
   "source": [
    "df_standard_exercises = (\n",
    "    df_all_exercises\n",
    "    .query(\" custom_exercise != True \")\n",
    "    .drop(columns='custom_exercise')\n",
    "    .assign(\n",
    "        custom_exercise = False,\n",
    "        muscle_group = '',\n",
    "        exercise_group = '',\n",
    "        main_muscle = '',\n",
    "        auxiliary_muscles = '',\n",
    "        size = '',\n",
    "        metrics = '',\n",
    "        bodyweight = '',\n",
    "        notes = ''\n",
    "    ))"
   ]
  },
  {
   "cell_type": "code",
   "execution_count": 319,
   "metadata": {},
   "outputs": [],
   "source": [
    "#df_standard_exercises"
   ]
  },
  {
   "cell_type": "code",
   "execution_count": 320,
   "metadata": {},
   "outputs": [],
   "source": [
    "df_standard_exercises = df_standard_exercises[[\n",
    "    'custom_exercise',\n",
    "    'exercise_name',\n",
    "    'equipment',\n",
    "    'muscle_group',\n",
    "    'exercise_group',\n",
    "    'main_muscle',\n",
    "    'auxiliary_muscles',\n",
    "    'size',\n",
    "    'metrics',\n",
    "    'bodyweight',\n",
    "    'notes',\n",
    "]]"
   ]
  },
  {
   "cell_type": "markdown",
   "metadata": {},
   "source": [
    "### Join"
   ]
  },
  {
   "cell_type": "code",
   "execution_count": 321,
   "metadata": {},
   "outputs": [],
   "source": [
    "list_exercise_dfs = [df_customexercises_clean, df_standard_exercises]\n",
    "df_exercises_ref = pd.concat(list_exercise_dfs, ignore_index=True)"
   ]
  },
  {
   "cell_type": "code",
   "execution_count": 322,
   "metadata": {},
   "outputs": [],
   "source": [
    "#df_exercises_ref"
   ]
  },
  {
   "cell_type": "markdown",
   "metadata": {},
   "source": [
    "## Workouts"
   ]
  },
  {
   "cell_type": "code",
   "execution_count": 323,
   "metadata": {},
   "outputs": [],
   "source": [
    "df_workouts_formatted = df_workouts_orig.copy()"
   ]
  },
  {
   "cell_type": "code",
   "execution_count": 324,
   "metadata": {},
   "outputs": [],
   "source": [
    "df_workouts_formatted['day_number'] = df_workouts_orig['day_number'].apply(extract_day_or_week).astype('string')\n",
    "df_workouts_formatted['week_number'] = df_workouts_orig['week_number'].apply(extract_day_or_week).astype('string')\n",
    "df_workouts_formatted['start_time'] = pd.to_datetime(df_workouts_orig['start_time'], format=\"%Y-%m-%d %H:%M h\")\n",
    "df_workouts_formatted['duration'] = df_workouts_orig['duration'].apply(convert_to_minutes)\n",
    "df_workouts_formatted['end_time'] = df_workouts_formatted['start_time'] + pd.to_timedelta(df_workouts_formatted['duration'], unit='m')"
   ]
  },
  {
   "cell_type": "code",
   "execution_count": 325,
   "metadata": {},
   "outputs": [],
   "source": [
    "#df_workouts_formatted.iloc[:20]"
   ]
  },
  {
   "cell_type": "markdown",
   "metadata": {},
   "source": [
    "## Workouts Log"
   ]
  },
  {
   "cell_type": "code",
   "execution_count": 326,
   "metadata": {},
   "outputs": [],
   "source": [
    "df_exerciseslog_formatted = df_exerciseslog_orig.copy()"
   ]
  },
  {
   "cell_type": "code",
   "execution_count": 327,
   "metadata": {},
   "outputs": [],
   "source": [
    "# convert values in minutes to seconds\n",
    "mask_mins = (df_exerciseslog_formatted[\"measure\"] == \"mins\")\n",
    "\n",
    "df_exerciseslog_formatted['goal'] = df_exerciseslog_formatted['goal'].apply(strip_measure)\n",
    "df_exerciseslog_formatted.loc[mask_mins, \"goal\"] = df_exerciseslog_formatted.loc[mask_mins]['goal'].apply(convert_to_seconds)\n",
    "df_exerciseslog_formatted.loc[mask_mins, \"quantity\"] = df_exerciseslog_orig.loc[mask_mins, \"quantity\"].apply(convert_to_seconds)\n",
    "df_exerciseslog_formatted.loc[df_exerciseslog_orig[\"measure\"] == \"mins\", \"measure\"] = \"secs\""
   ]
  },
  {
   "cell_type": "code",
   "execution_count": 328,
   "metadata": {},
   "outputs": [],
   "source": [
    "df_exerciseslog_formatted['goal'] = df_exerciseslog_formatted['goal'].fillna(0).astype('int64')\n",
    "df_exerciseslog_formatted['quantity'] = df_exerciseslog_formatted['quantity'].replace('-', 0).astype('int64')\n",
    "df_exerciseslog_formatted['weight'] = df_exerciseslog_formatted['weight'].str.replace(\"+\", \"\").str.replace(\",\", \".\").replace('-', 0).replace('', 0).fillna(0).astype('float64')"
   ]
  },
  {
   "cell_type": "code",
   "execution_count": 329,
   "metadata": {},
   "outputs": [],
   "source": [
    "df_exerciseslog_formatted['volume'] = df_exerciseslog_formatted['weight'] * df_exerciseslog_formatted['quantity']"
   ]
  },
  {
   "cell_type": "code",
   "execution_count": 330,
   "metadata": {},
   "outputs": [],
   "source": [
    "# when an exercise uses dumbbells, multiply its weight by 2 to yield total weight\n",
    "\n",
    "df_exerciseslog_formatted['total_weight'] = df_exerciseslog_formatted['weight']\n",
    "\n",
    "mask_dumbbells = (df_exerciseslog_formatted[\"equipment\"] == \"Dumbbells\")\n",
    "df_exerciseslog_formatted.loc[mask_dumbbells, \"total_weight\"] = df_exerciseslog_formatted.loc[mask_dumbbells, \"total_weight\"] * 2"
   ]
  },
  {
   "cell_type": "code",
   "execution_count": 331,
   "metadata": {},
   "outputs": [],
   "source": [
    "df_exerciseslog_formatted = df_exerciseslog_formatted[[\n",
    "    'workout_id',\n",
    "    'exercise_number',\n",
    "    'exercise_name',\n",
    "    'equipment',\n",
    "    'goal',\n",
    "    'measure',\n",
    "    'set_number',\n",
    "    'weight',\n",
    "    'total_weight',\n",
    "    'quantity',\n",
    "    'volume'\n",
    "]]"
   ]
  },
  {
   "cell_type": "markdown",
   "metadata": {},
   "source": [
    "# Save"
   ]
  },
  {
   "cell_type": "code",
   "execution_count": 332,
   "metadata": {},
   "outputs": [],
   "source": [
    "df_workouts_formatted.to_csv(f\"{GOLD_FOLDER}/workouts.csv\", sep=\";\", decimal=',', index=False)\n",
    "df_exerciseslog_formatted.to_csv(f\"{GOLD_FOLDER}/exercises_log.csv\", sep=\";\", decimal=',', index=False)\n",
    "df_exercises_ref.to_csv(f\"{GOLD_FOLDER}/exercises_ref.csv\", sep=\";\", decimal=',', index=False)"
   ]
  },
  {
   "cell_type": "markdown",
   "metadata": {},
   "source": [
    "# Tests"
   ]
  },
  {
   "cell_type": "code",
   "execution_count": 64,
   "metadata": {},
   "outputs": [],
   "source": [
    "#df_exercises_log"
   ]
  },
  {
   "cell_type": "code",
   "execution_count": 65,
   "metadata": {},
   "outputs": [],
   "source": [
    "#raw_workouts[2]"
   ]
  },
  {
   "cell_type": "code",
   "execution_count": 66,
   "metadata": {},
   "outputs": [],
   "source": [
    "#pprint.pprint(workouts_dict[2], sort_dicts=False)"
   ]
  }
 ],
 "metadata": {
  "kernelspec": {
   "display_name": "Python 3",
   "language": "python",
   "name": "python3"
  },
  "language_info": {
   "codemirror_mode": {
    "name": "ipython",
    "version": 3
   },
   "file_extension": ".py",
   "mimetype": "text/x-python",
   "name": "python",
   "nbconvert_exporter": "python",
   "pygments_lexer": "ipython3",
   "version": "3.11.2"
  }
 },
 "nbformat": 4,
 "nbformat_minor": 2
}
