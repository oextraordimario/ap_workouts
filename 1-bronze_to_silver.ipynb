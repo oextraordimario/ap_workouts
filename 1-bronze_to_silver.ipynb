{
 "cells": [
  {
   "cell_type": "markdown",
   "metadata": {},
   "source": [
    "# Prep"
   ]
  },
  {
   "cell_type": "code",
   "execution_count": 31,
   "metadata": {},
   "outputs": [],
   "source": [
    "import pandas as pd\n",
    "import numpy as np\n",
    "import pprint\n",
    "import re\n",
    "import os\n",
    "import psycopg2\n",
    "import janitor\n",
    "\n",
    "from datetime import datetime\n",
    "from dotenv import load_dotenv\n",
    "from psycopg2 import sql, extras"
   ]
  },
  {
   "cell_type": "code",
   "execution_count": 32,
   "metadata": {},
   "outputs": [],
   "source": [
    "WORKOUTS_FILE = r'C:\\Users\\User\\Documents\\GitHub\\ap_workouts\\b1-bronze\\workouts.csv'\n",
    "PLANS_FILE = r'C:\\Users\\User\\Documents\\GitHub\\ap_workouts\\b1-bronze\\plans.csv'\n",
    "CUSTOMEXERCISES_FILE = r'C:\\Users\\User\\Documents\\GitHub\\ap_workouts\\b1-bronze\\custom_exercises.csv'\n",
    "SILVER_FOLDER = r'C:\\Users\\User\\Documents\\GitHub\\ap_workouts\\b2-silver'\n",
    "GOLD_FOLDER = r'C:\\Users\\User\\Documents\\GitHub\\ap_workouts\\b3-gold'"
   ]
  },
  {
   "cell_type": "markdown",
   "metadata": {},
   "source": [
    "## Auth"
   ]
  },
  {
   "cell_type": "code",
   "execution_count": 33,
   "metadata": {},
   "outputs": [],
   "source": [
    "load_dotenv(r\"C:\\\\Users\\\\User\\\\Documents\\\\GitHub\\\\notion_api\\\\postgres_auth.env\")\n",
    "\n",
    "db_name = os.getenv(\"dbname\")\n",
    "db_user = os.getenv(\"user\")\n",
    "db_password = os.getenv(\"password\")\n",
    "db_host = os.getenv(\"host\")\n",
    "db_port = os.getenv(\"port\")"
   ]
  },
  {
   "cell_type": "markdown",
   "metadata": {},
   "source": [
    "## Functions"
   ]
  },
  {
   "cell_type": "markdown",
   "metadata": {},
   "source": [
    "### Extract"
   ]
  },
  {
   "cell_type": "code",
   "execution_count": 34,
   "metadata": {},
   "outputs": [],
   "source": [
    "def get_raw_workouts(fp):\n",
    "  all_workouts = []\n",
    "  counter = 0\n",
    "\n",
    "  with open(fp, encoding='utf-8') as f:\n",
    "    clean_strings = [line.strip() for line in f.readlines()]\n",
    "    no_empty_lines = list(filter(None, clean_strings))\n",
    "    no_empty_lines.pop(0) # tirar a primeira linha, que é vazia\n",
    "\n",
    "    single_workout = []\n",
    "    for line in no_empty_lines:\n",
    "      if 'Week' in line or 'Standalone' in line:\n",
    "        if counter > 0:\n",
    "          all_workouts.append(single_workout)\n",
    "          single_workout = []\n",
    "        counter += 1\n",
    "      single_workout.append(line)\n",
    "\n",
    "  return all_workouts"
   ]
  },
  {
   "cell_type": "markdown",
   "metadata": {},
   "source": [
    "### Transform"
   ]
  },
  {
   "cell_type": "markdown",
   "metadata": {},
   "source": [
    "#### Flatten Workouts - Big Function"
   ]
  },
  {
   "cell_type": "code",
   "execution_count": 35,
   "metadata": {},
   "outputs": [],
   "source": [
    "def get_workout_dict(raw_workout_list):\n",
    "    workout_listdict = []\n",
    "\n",
    "    workout_counter = 0\n",
    "    for workout in raw_workout_list:\n",
    "        #print(f\"Workout: {workout_counter}\") # use to find errors\n",
    "\n",
    "        workout_description = workout[0].split(';')\n",
    "        description_info = [item.strip() for item in workout_description[0].strip('\"').split('·')]\n",
    "\n",
    "        # \n",
    "        workout_dict = {\n",
    "            #'workout_counter': workout_counter, # use to find errors\n",
    "            #'raw_description': f'{workout[0]}', # use to check for data quality\n",
    "            'description': {\n",
    "                'id': re.sub(r'\\D', '', workout_description[1].strip('\"')), #re.sub(r'\\D', '', input_string) ## workout_description[1].strip('\"').strip('h').strip(' ')\n",
    "                'day_name': description_info[0],\n",
    "                'day_number': description_info[1],\n",
    "                'week_number': '',\n",
    "                'plan_name': '',\n",
    "                'plan_function': '',\n",
    "                'start_time': workout_description[1].strip('\"'),\n",
    "                'duration': workout_description[2].strip('\"')\n",
    "            },\n",
    "            #'raw_exercises': [],\n",
    "            'exercises': []\n",
    "        }\n",
    "\n",
    "        # Standalone workouts follow a different structure and need specific treatment\n",
    "        if 'Standalone' in workout[0]:\n",
    "            workout_dict['description']['week_number'] = '0'\n",
    "            workout_dict['description']['plan_name'] = 'Standalone'\n",
    "            try:\n",
    "                workout_dict['description']['plan_function'] = description_info[2]\n",
    "            except:\n",
    "                workout_dict['description']['plan_function'] = ''\n",
    "        else:\n",
    "            workout_dict['description']['week_number'] = description_info[2]\n",
    "            workout_dict['description']['plan_name'] = description_info[3]\n",
    "            try:\n",
    "                workout_dict['description']['plan_function'] = description_info[4]\n",
    "            except:\n",
    "                workout_dict['description']['plan_function'] = ''\n",
    "\n",
    "        # \n",
    "        raw_current_exercise = {\n",
    "            'exercise': '',\n",
    "            'data': []\n",
    "        }\n",
    "        raw_exercises = []\n",
    "        for line in workout[1:]:\n",
    "            if len(line) > 13:\n",
    "                if len(raw_current_exercise['exercise']) > 0:\n",
    "                    raw_exercises.append(raw_current_exercise)\n",
    "                raw_current_exercise = {'exercise': line, 'data': []}\n",
    "            else:\n",
    "                raw_current_exercise['data'].append(line)\n",
    "        raw_exercises.append(raw_current_exercise) # necessary to append the last dict\n",
    "\n",
    "        # \n",
    "        clean_exercises = []\n",
    "        for e in raw_exercises:\n",
    "            exercise_sets = []\n",
    "            #print(f\"workout: {workout_counter}  {e}\") # use to find errors\n",
    "\n",
    "            raw_exercise_header = e['exercise']\n",
    "            if ';' in e['exercise']:\n",
    "                split_header = raw_exercise_header.split(';')\n",
    "                exercise_info = [item.strip() for item in split_header[0].strip('\"').split('·')]\n",
    "                exercise_comments = split_header[1]\n",
    "            else:\n",
    "                exercise_info = [item.strip() for item in raw_exercise_header.strip('\"').split('·')]\n",
    "                exercise_comments = ''\n",
    "            order_and_name = exercise_info[0].split(\". \")\n",
    "\n",
    "            clean_exercise = {\n",
    "                #'info': exercise_info, # use to check data quality\n",
    "                'workout_id': workout_dict['description']['id'],\n",
    "                'exercise_number': order_and_name[0],\n",
    "                'exercise_name': order_and_name[1],\n",
    "                'equipment': exercise_info[1],\n",
    "                'goal': np.nan\n",
    "            }\n",
    "\n",
    "            if (len(exercise_info) > 2):\n",
    "                clean_exercise['goal'] = exercise_info[2]\n",
    "            \n",
    "            # add set data to main dict\n",
    "            exercise_set_header = e['data'][0].split(';')\n",
    "            for set in e['data'][1:]:\n",
    "                complete_set = clean_exercise.copy()\n",
    "                set_info = set.split(';')\n",
    "                \n",
    "                #clean_exercise['test'] = exercise_set_header # use to check data quality\n",
    "                complete_set['set_number'] = set_info[0]\n",
    "\n",
    "                if 'KG' in exercise_set_header:\n",
    "                    complete_set['weight'] = set_info[1]\n",
    "                    complete_set['quantity'] = set_info[2]\n",
    "                    complete_set['measure'] = 'reps'\n",
    "                elif ('KG' not in exercise_set_header and 'REPS' in exercise_set_header):\n",
    "                    complete_set['weight'] = ''\n",
    "                    complete_set['quantity'] = set_info[1]\n",
    "                    complete_set['measure'] = 'reps'\n",
    "                elif ('KG' not in exercise_set_header and 'SECS' in exercise_set_header):\n",
    "                    complete_set['weight'] = ''\n",
    "                    complete_set['quantity'] = set_info[1]\n",
    "                    complete_set['measure'] = 'secs'\n",
    "                elif ('KG' not in exercise_set_header and 'MINS' in exercise_set_header):\n",
    "                    complete_set['weight'] = ''\n",
    "                    complete_set['quantity'] = set_info[1]\n",
    "                    complete_set['measure'] = 'mins'\n",
    "                else:\n",
    "                    complete_set['weight'] = 'error'\n",
    "                    complete_set['quantity'] = '-1'\n",
    "                    complete_set['measure'] = 'error'\n",
    "                \n",
    "                complete_set['comments'] = exercise_comments\n",
    "\n",
    "                exercise_sets.append(complete_set)\n",
    "                \n",
    "            clean_exercises.append(exercise_sets)\n",
    "        \n",
    "        #workout_dict['raw_exercises'] = raw_exercises # not returned but still useful to check for data quality\n",
    "        workout_dict['exercises'] = [item for sublist in clean_exercises for item in sublist]\n",
    "        workout_counter += 1\n",
    "\n",
    "        workout_listdict.append(workout_dict)\n",
    "    \n",
    "    \n",
    "    return workout_listdict"
   ]
  },
  {
   "cell_type": "markdown",
   "metadata": {},
   "source": [
    "#### Flatten Plans"
   ]
  },
  {
   "cell_type": "code",
   "execution_count": 36,
   "metadata": {},
   "outputs": [],
   "source": [
    "def parse_fitness_csv(file_path):\n",
    "    # Read the raw file\n",
    "    with open(file_path, 'r', encoding='utf-8') as file:\n",
    "        lines = file.readlines()\n",
    "    \n",
    "    # Clean lines and remove empty ones\n",
    "    lines = [line.strip() for line in lines if line.strip()]\n",
    "    \n",
    "    parsed_data = []\n",
    "    current_program = None\n",
    "    current_day = None\n",
    "    current_day_number = None\n",
    "    \n",
    "    for line in lines:\n",
    "        # Remove quotes and split by semicolon\n",
    "        parts = [part.strip('\"') for part in line.split(';')]\n",
    "        \n",
    "        # Check if this is a program header (has date as second part)\n",
    "        if len(parts) == 2 and re.match(r'\\d{4}-\\d{2}-\\d{2}', parts[1]):\n",
    "            # Parse program info\n",
    "            program_info = parts[0]\n",
    "            start_date = parts[1]\n",
    "            \n",
    "            # Extract program name and duration\n",
    "            if '·' in program_info:\n",
    "                program_parts = program_info.split('·')\n",
    "                plan_name = program_parts[0].strip()\n",
    "                duration_str = program_parts[1].strip()\n",
    "                \n",
    "                # Extract number of weeks\n",
    "                duration_match = re.search(r'(\\d+)\\s*weeks?', duration_str, re.IGNORECASE)\n",
    "                duration_weeks = int(duration_match.group(1)) if duration_match else None\n",
    "            else:\n",
    "                plan_name = program_info\n",
    "                duration_weeks = None\n",
    "            \n",
    "            current_program = {\n",
    "                'plan_name': plan_name,\n",
    "                'duration_weeks': duration_weeks,\n",
    "                'start_date': start_date\n",
    "            }\n",
    "            continue\n",
    "        \n",
    "        # Check if this is a day header\n",
    "        if len(parts) == 1 and parts[0].startswith('Day '):\n",
    "            day_info = parts[0]\n",
    "            \n",
    "            # Extract day number and name\n",
    "            if '·' in day_info:\n",
    "                day_parts = day_info.split('·')\n",
    "                day_number_str = day_parts[0].strip()\n",
    "                day_name = day_parts[1].strip()\n",
    "                \n",
    "                # Extract day number\n",
    "                day_match = re.search(r'Day\\s+(\\d+)', day_number_str)\n",
    "                current_day_number = int(day_match.group(1)) if day_match else None\n",
    "                current_day = day_name\n",
    "            continue\n",
    "        \n",
    "        # Check if this is an exercise line\n",
    "        if len(parts) >= 3 and parts[0] and re.match(r'^\\d+\\.', parts[0]):\n",
    "            # Parse exercise info\n",
    "            exercise_info = parts[0]\n",
    "            goal_sets = parts[1] if len(parts) > 1 else None\n",
    "            goal_quantity_info = parts[2] if len(parts) > 2 else None\n",
    "            \n",
    "            # Extract exercise number, name, and equipment\n",
    "            exercise_match = re.match(r'^(\\d+)\\.\\s*(.+?)(?:\\s+·\\s+(.+))?$', exercise_info)\n",
    "            if exercise_match:\n",
    "                exercise_number = int(exercise_match.group(1))\n",
    "                exercise_name = exercise_match.group(2).strip()\n",
    "                equipment = exercise_match.group(3).strip() if exercise_match.group(3) else None\n",
    "                \n",
    "                # Parse sets\n",
    "                sets_match = re.search(r'(\\d+)\\s+sets?', goal_sets, re.IGNORECASE) if goal_sets else None\n",
    "                goal_sets_num = int(sets_match.group(1)) if sets_match else None\n",
    "                \n",
    "                # Parse quantity and measure\n",
    "                goal_quantity = None\n",
    "                measure_quantity = None\n",
    "                \n",
    "                if goal_quantity_info:\n",
    "                    # Check for reps\n",
    "                    reps_match = re.search(r'(\\d+)\\s+reps?', goal_quantity_info, re.IGNORECASE)\n",
    "                    if reps_match:\n",
    "                        goal_quantity = int(reps_match.group(1))\n",
    "                        measure_quantity = \"reps\"\n",
    "                    else:\n",
    "                        # Check for time (seconds)\n",
    "                        time_match = re.search(r'(\\d+)\\s+sec', goal_quantity_info, re.IGNORECASE)\n",
    "                        if time_match:\n",
    "                            goal_quantity = int(time_match.group(1))\n",
    "                            measure_quantity = \"sec\"\n",
    "                        # If no specific measure found, it might be a hold or similar\n",
    "                        elif goal_quantity_info and not reps_match:\n",
    "                            measure_quantity = \"hold\"\n",
    "                \n",
    "                # Add to parsed data\n",
    "                if current_program:\n",
    "                    row = {\n",
    "                        'plan_name': current_program['plan_name'],\n",
    "                        'duration_weeks': current_program['duration_weeks'],\n",
    "                        'start_date': current_program['start_date'],\n",
    "                        'day_number': current_day_number,\n",
    "                        'day_name': current_day,\n",
    "                        'exercise_number': exercise_number,\n",
    "                        'exercise_name': exercise_name,\n",
    "                        'equipment': equipment,\n",
    "                        'goal_sets': goal_sets_num,\n",
    "                        'goal_quantity': goal_quantity,\n",
    "                        'measure_quantity': measure_quantity\n",
    "                    }\n",
    "                    parsed_data.append(row)\n",
    "    \n",
    "    # Convert to DataFrame\n",
    "    df = pd.DataFrame(parsed_data)\n",
    "    \n",
    "    return df"
   ]
  },
  {
   "cell_type": "markdown",
   "metadata": {},
   "source": [
    "#### Others"
   ]
  },
  {
   "cell_type": "code",
   "execution_count": 37,
   "metadata": {},
   "outputs": [],
   "source": [
    "def extract_day_or_week(value):\n",
    "    if value == \"Standalone workout\":\n",
    "        return 0\n",
    "    elif value.split()[-1].isdigit():\n",
    "        return int(value.split()[-1])"
   ]
  },
  {
   "cell_type": "code",
   "execution_count": 38,
   "metadata": {},
   "outputs": [],
   "source": [
    "def convert_to_minutes(duration):\n",
    "    if \"hr\" in duration:\n",
    "        if ':' in duration:\n",
    "            hours, minutes = duration.replace(\" hr\", \"\").split(\":\")\n",
    "            return int(hours) * 60 + int(minutes)\n",
    "        else:\n",
    "            return int(duration.replace(\" hr\", \"\")) * 60\n",
    "    elif \"min\" in duration:\n",
    "        return int(duration.replace(\" min\", \"\"))\n",
    "    else:\n",
    "        return None"
   ]
  },
  {
   "cell_type": "code",
   "execution_count": 39,
   "metadata": {},
   "outputs": [],
   "source": [
    "def convert_to_seconds(duration):\n",
    "    if pd.isna(duration) or duration == '' or duration == 0:\n",
    "        return 0\n",
    "    elif ':' in duration:\n",
    "        minutes, seconds = duration.split(\":\")\n",
    "        return int(minutes) * 60 + int(seconds)\n",
    "    else:\n",
    "        return int(duration) * 60"
   ]
  },
  {
   "cell_type": "code",
   "execution_count": 40,
   "metadata": {},
   "outputs": [],
   "source": [
    "def strip_measure(value):\n",
    "    if (pd.isna(value) or value == ''):\n",
    "        return 0\n",
    "    else:\n",
    "        return value.split()[0]"
   ]
  },
  {
   "cell_type": "code",
   "execution_count": 41,
   "metadata": {},
   "outputs": [],
   "source": [
    "def generate_exercise_id(exercise_name_column, equipment_column):\n",
    "    df = pd.DataFrame()\n",
    "\n",
    "    df['exercise_name_formatted'] = (\n",
    "        exercise_name_column\n",
    "        .str.lower()\n",
    "        .str.replace(\"on \", \"\", regex=True)\n",
    "        .str.replace(\" \", \"\", regex=False)\n",
    "        .str.replace(\"-\", \"\", regex=False)\n",
    "    )\n",
    "\n",
    "    df['equipment_short'] = (\n",
    "        equipment_column\n",
    "        .map({\n",
    "            'Bodyweight': 'BW',\n",
    "            'Machine': 'MCH',\n",
    "            'Cable': 'CAB',\n",
    "            'Barbell': 'BB',\n",
    "            'Dumbbells': 'DB',\n",
    "            'Kettlebells': 'KB',\n",
    "            'EZ bar': 'EZB',\n",
    "            'Trap bar': 'TB',\n",
    "            'TRX': 'TRX',\n",
    "            'Smith machine': 'SMT',\n",
    "            'Resistance bands': 'RES',\n",
    "            })\n",
    "        .fillna('MISSING')\n",
    "    )\n",
    "\n",
    "    return df['exercise_name_formatted'] + '_' + df['equipment_short']"
   ]
  },
  {
   "cell_type": "markdown",
   "metadata": {},
   "source": [
    "### Load"
   ]
  },
  {
   "cell_type": "code",
   "execution_count": 42,
   "metadata": {},
   "outputs": [],
   "source": [
    "def insert_df(df, sql_table, schema='public', chunk_size=3000):\n",
    "  num_chunks = (len(df) // chunk_size) + 1\n",
    "\n",
    "  print(f\"Inserting {len(df)} rows in {num_chunks} chunks.\\n\")\n",
    "\n",
    "  colunas_df = list(df.columns)\n",
    "\n",
    "  # Connection to the PostgreSQL database\n",
    "  conn = psycopg2.connect(\n",
    "      host=db_host,\n",
    "      database=db_name,\n",
    "      user=db_user,\n",
    "      password=db_password\n",
    "  )\n",
    "  cur = conn.cursor()\n",
    "\n",
    "  cur.execute(f\"SET search_path TO {schema}\")\n",
    "\n",
    "  for i in range(num_chunks):\n",
    "    start_idx = i * chunk_size\n",
    "    end_idx = min((i + 1) * chunk_size, len(df))\n",
    "    chunk_df = df.iloc[start_idx:end_idx]\n",
    "\n",
    "    print(f\"Inserting rows {start_idx}:{end_idx}\")\n",
    "\n",
    "    # tl == Tuple List\n",
    "    tl_df = list(chunk_df.itertuples(index=False, name=None))\n",
    "\n",
    "    insert_df = sql.SQL(\"INSERT INTO {} ({}) VALUES %s\").format(\n",
    "      sql.Identifier(sql_table),\n",
    "      sql.SQL(', ').join(map(sql.Identifier, colunas_df))\n",
    "    )\n",
    "\n",
    "    # Execute the query with the data\n",
    "    try:\n",
    "        extras.execute_values(cur, insert_df, tl_df)\n",
    "        conn.commit()\n",
    "        print(\"Rows inserted successfuly.\")\n",
    "    except Exception as e:\n",
    "        conn.rollback()\n",
    "        print(f\"Error: {e}\")\n",
    "\n",
    "  # Close the cursor and connection\n",
    "  cur.close()\n",
    "  conn.close()\n",
    "\n",
    "  print(\"FINISHED\")\n",
    "\n",
    "  return None"
   ]
  },
  {
   "cell_type": "markdown",
   "metadata": {},
   "source": [
    "# Extract"
   ]
  },
  {
   "cell_type": "code",
   "execution_count": 43,
   "metadata": {},
   "outputs": [],
   "source": [
    "raw_workouts = get_raw_workouts(WORKOUTS_FILE)"
   ]
  },
  {
   "cell_type": "markdown",
   "metadata": {},
   "source": [
    "# Transform"
   ]
  },
  {
   "cell_type": "markdown",
   "metadata": {},
   "source": [
    "## Flattening"
   ]
  },
  {
   "cell_type": "code",
   "execution_count": 44,
   "metadata": {},
   "outputs": [],
   "source": [
    "normalized_workouts_dict = get_workout_dict(raw_workouts)"
   ]
  },
  {
   "cell_type": "code",
   "execution_count": 45,
   "metadata": {},
   "outputs": [],
   "source": [
    "#pprint.pprint(normalized_workouts_dict[1], sort_dicts=False) #['exercises']"
   ]
  },
  {
   "cell_type": "markdown",
   "metadata": {},
   "source": [
    "## Dataframes"
   ]
  },
  {
   "cell_type": "code",
   "execution_count": 46,
   "metadata": {},
   "outputs": [],
   "source": [
    "workouts_list = []\n",
    "exercises_log_list = []\n",
    "\n",
    "for i in normalized_workouts_dict:\n",
    "    workouts_list.append(i['description'])\n",
    "    exercises_log_list.append(i['exercises'])\n",
    "\n",
    "exercises_log_list = [item for sublist in exercises_log_list for item in sublist]\n",
    "\n",
    "df_workouts_orig = pd.DataFrame.from_dict(workouts_list)\n",
    "df_exerciseslog_orig = pd.DataFrame.from_dict(exercises_log_list)\n"
   ]
  },
  {
   "cell_type": "markdown",
   "metadata": {},
   "source": [
    "## Exercises Ref"
   ]
  },
  {
   "cell_type": "markdown",
   "metadata": {},
   "source": [
    "### Custom Exercises"
   ]
  },
  {
   "cell_type": "code",
   "execution_count": 47,
   "metadata": {},
   "outputs": [],
   "source": [
    "df_customexercises_raw = pd.read_csv(CUSTOMEXERCISES_FILE, sep=';')"
   ]
  },
  {
   "cell_type": "code",
   "execution_count": 48,
   "metadata": {},
   "outputs": [],
   "source": [
    "df_customexercises_clean = (\n",
    "    df_customexercises_raw\n",
    "    .rename(columns={\n",
    "        'NAME': 'exercise_name',\n",
    "        'EQUIPMENT': 'equipment',\n",
    "        'MUSCLE': 'main_muscle',\n",
    "        'AUXILIARY MUSCLES': 'auxiliary_muscles',\n",
    "        'TYPE': 'size',\n",
    "        'METRICS': 'metrics',\n",
    "        'BODYWEIGHT': 'bodyweight',\n",
    "        'NOTES': 'notes',\n",
    "        })\n",
    "    .assign(custom_exercise = True,)\n",
    "    .sort_values(by='exercise_name').reset_index(drop=True)\n",
    ")"
   ]
  },
  {
   "cell_type": "code",
   "execution_count": 49,
   "metadata": {},
   "outputs": [],
   "source": [
    "df_customexercises_clean = df_customexercises_clean[[\n",
    "    'custom_exercise',\n",
    "    'exercise_name',\n",
    "    'equipment',\n",
    "    'main_muscle',\n",
    "    'auxiliary_muscles',\n",
    "    'size',\n",
    "    'metrics',\n",
    "    'bodyweight',\n",
    "    'notes',\n",
    "]]"
   ]
  },
  {
   "cell_type": "markdown",
   "metadata": {},
   "source": [
    "### Standard Exercises"
   ]
  },
  {
   "cell_type": "code",
   "execution_count": 50,
   "metadata": {},
   "outputs": [
    {
     "name": "stderr",
     "output_type": "stream",
     "text": [
      "C:\\Users\\User\\AppData\\Local\\Temp\\ipykernel_6368\\1032905986.py:6: FutureWarning: Downcasting object dtype arrays on .fillna, .ffill, .bfill is deprecated and will change in a future version. Call result.infer_objects(copy=False) instead. To opt-in to the future behavior, set `pd.set_option('future.no_silent_downcasting', True)`\n",
      "  ).merge(df_customexercises_clean[['exercise_name', 'equipment', 'custom_exercise']], how=\"left\", on=['exercise_name', 'equipment']).fillna(False)\n"
     ]
    }
   ],
   "source": [
    "df_all_exercises = (\n",
    "    df_exerciseslog_orig[['exercise_name', 'equipment', 'workout_id']]\n",
    "    .groupby(['exercise_name', 'equipment']).count().reset_index()\n",
    "    .drop(columns=['workout_id'])\n",
    "    #.assign(custom_exercise = False)\n",
    ").merge(df_customexercises_clean[['exercise_name', 'equipment', 'custom_exercise']], how=\"left\", on=['exercise_name', 'equipment']).fillna(False)"
   ]
  },
  {
   "cell_type": "code",
   "execution_count": 51,
   "metadata": {},
   "outputs": [],
   "source": [
    "df_standard_exercises = (\n",
    "    df_all_exercises\n",
    "    .query(\" custom_exercise != True \")\n",
    "    .drop(columns='custom_exercise')\n",
    "    .assign(\n",
    "        custom_exercise = False,\n",
    "        main_muscle = '',\n",
    "        auxiliary_muscles = '',\n",
    "        size = '',\n",
    "        metrics = '',\n",
    "        bodyweight = '',\n",
    "        notes = ''\n",
    "    ))"
   ]
  },
  {
   "cell_type": "code",
   "execution_count": 52,
   "metadata": {},
   "outputs": [],
   "source": [
    "df_standard_exercises = df_standard_exercises[[\n",
    "    'custom_exercise',\n",
    "    'exercise_name',\n",
    "    'equipment',\n",
    "    'main_muscle',\n",
    "    'auxiliary_muscles',\n",
    "    'size',\n",
    "    'metrics',\n",
    "    'bodyweight',\n",
    "    'notes',\n",
    "]]"
   ]
  },
  {
   "cell_type": "code",
   "execution_count": 53,
   "metadata": {},
   "outputs": [],
   "source": [
    "#df_standard_exercises"
   ]
  },
  {
   "cell_type": "markdown",
   "metadata": {},
   "source": [
    "### Join"
   ]
  },
  {
   "cell_type": "code",
   "execution_count": 54,
   "metadata": {},
   "outputs": [],
   "source": [
    "df_exercisesref_orig = pd.concat([df_customexercises_clean, df_standard_exercises]).sort_values('exercise_name', ignore_index=True)"
   ]
  },
  {
   "cell_type": "markdown",
   "metadata": {},
   "source": [
    "### Grouping"
   ]
  },
  {
   "cell_type": "code",
   "execution_count": 55,
   "metadata": {},
   "outputs": [],
   "source": [
    "exercise_groups = [\n",
    "{'exercise_name': 'Archer Push-Ups', 'equipment': 'Bodyweight', 'muscle_group': 'Upper Body', 'exercise_group': 'Push-Up'},\n",
    "{'exercise_name': 'Bilateral Calf Press - Horizontal Leg Press', 'equipment': 'Machine', 'muscle_group': 'Lower Body', 'exercise_group': 'Calf Press'},\n",
    "{'exercise_name': 'Chair Crunches', 'equipment': 'Bodyweight', 'muscle_group': 'Core', 'exercise_group': 'Ab Crunch'},\n",
    "{'exercise_name': 'Decline Push-Ups', 'equipment': 'Bodyweight', 'muscle_group': 'Upper Body', 'exercise_group': 'Push-Up'},\n",
    "{'exercise_name': 'Diagonal Hip Abduction', 'equipment': 'Machine', 'muscle_group': 'Lower Body', 'exercise_group': 'Hip Abduction'},\n",
    "{'exercise_name': 'Elevated Pike hold', 'equipment': 'Bodyweight', 'muscle_group': 'Upper Body', 'exercise_group': 'Pike'},\n",
    "{'exercise_name': 'Explosive Push-Ups', 'equipment': 'Bodyweight', 'muscle_group': 'Upper Body', 'exercise_group': 'Push-Up'},\n",
    "{'exercise_name': 'Hanging Knee Tuck - iso', 'equipment': 'Bodyweight', 'muscle_group': 'Core', 'exercise_group': 'Leg Raise'},\n",
    "{'exercise_name': 'Incline Archer Push-Ups', 'equipment': 'Bodyweight', 'muscle_group': 'Upper Body', 'exercise_group': 'Push-Up'},\n",
    "{'exercise_name': 'Incline Australian Pull-Ups', 'equipment': 'Bodyweight', 'muscle_group': 'Upper Body', 'exercise_group': 'Row'},\n",
    "{'exercise_name': 'Knee Diamond Push-Ups', 'equipment': 'Bodyweight', 'muscle_group': 'Upper Body', 'exercise_group': 'Push-Up'},\n",
    "{'exercise_name': 'L Raises', 'equipment': 'Bodyweight', 'muscle_group': 'Core', 'exercise_group': 'Leg Raise'},\n",
    "{'exercise_name': 'L-Sit Hold', 'equipment': 'Bodyweight', 'muscle_group': 'Core', 'exercise_group': 'Leg Raise'},\n",
    "{'exercise_name': 'Pike Push-Ups', 'equipment': 'Bodyweight', 'muscle_group': 'Upper Body', 'exercise_group': 'Pike'},\n",
    "{'exercise_name': 'Pseudo Planche Lean - Iso', 'equipment': 'Bodyweight', 'muscle_group': 'Upper Body', 'exercise_group': 'Push-Up'},\n",
    "{'exercise_name': 'Pseudo Push-Ups', 'equipment': 'Bodyweight', 'muscle_group': 'Upper Body', 'exercise_group': 'Push-Up'},\n",
    "{'exercise_name': 'Scapular Pull-Ups', 'equipment': 'Bodyweight', 'muscle_group': 'Upper Body', 'exercise_group': 'Pull-Up'},\n",
    "{'exercise_name': 'Single Leg Hip Thrust', 'equipment': 'Bodyweight', 'muscle_group': 'Lower Body', 'exercise_group': 'Hip Thrust'},\n",
    "{'exercise_name': 'Single leg deadlift', 'equipment': 'Bodyweight', 'muscle_group': 'Lower Body', 'exercise_group': 'Other'},\n",
    "{'exercise_name': 'Skin the cat', 'equipment': 'Bodyweight', 'muscle_group': 'Upper Body', 'exercise_group': 'Lat Pull'},\n",
    "{'exercise_name': 'Skydiver', 'equipment': 'Bodyweight', 'muscle_group': 'Core', 'exercise_group': 'Back Extension'},\n",
    "{'exercise_name': 'Skydiver - Iso', 'equipment': 'Bodyweight', 'muscle_group': 'Core', 'exercise_group': 'Back Extension'},\n",
    "{'exercise_name': 'Weighted L Raises', 'equipment': 'Bodyweight', 'muscle_group': 'Core', 'exercise_group': 'Leg Raise'},\n",
    "{'exercise_name': 'Assisted Chin-Ups', 'equipment': 'Machine', 'muscle_group': 'Upper Body', 'exercise_group': 'Pull-Up'},\n",
    "{'exercise_name': 'Assisted Dips', 'equipment': 'Machine', 'muscle_group': 'Upper Body', 'exercise_group': 'Dip'},\n",
    "{'exercise_name': 'Back Extensions on Roman Chair', 'equipment': 'Bodyweight', 'muscle_group': 'Core', 'exercise_group': 'Back Extension'},\n",
    "{'exercise_name': 'Bench Dips', 'equipment': 'Bodyweight', 'muscle_group': 'Upper Body', 'exercise_group': 'Dip'},\n",
    "{'exercise_name': 'Bench Press', 'equipment': 'Barbell', 'muscle_group': 'Upper Body', 'exercise_group': 'Chest Press'},\n",
    "{'exercise_name': 'Bench Press', 'equipment': 'Dumbbells', 'muscle_group': 'Upper Body', 'exercise_group': 'Chest Press'},\n",
    "{'exercise_name': 'Bent-Over Rows', 'equipment': 'Barbell', 'muscle_group': 'Upper Body', 'exercise_group': 'Row'},\n",
    "{'exercise_name': 'Bulgarian Split Squats', 'equipment': 'Dumbbells', 'muscle_group': 'Lower Body', 'exercise_group': 'Squat'},\n",
    "{'exercise_name': 'Burpees', 'equipment': 'Bodyweight', 'muscle_group': 'Full Body', 'exercise_group': 'Cardio'},\n",
    "{'exercise_name': 'Butterfly with Close Grip', 'equipment': 'Machine', 'muscle_group': 'Upper Body', 'exercise_group': 'Fly'},\n",
    "{'exercise_name': 'Butterfly with Wide Grip', 'equipment': 'Machine', 'muscle_group': 'Upper Body', 'exercise_group': 'Fly'},\n",
    "{'exercise_name': 'Calf Raises on Leg Press', 'equipment': 'Machine', 'muscle_group': 'Lower Body', 'exercise_group': 'Calf Press'},\n",
    "{'exercise_name': 'Chest Press', 'equipment': 'Machine', 'muscle_group': 'Upper Body', 'exercise_group': 'Chest Press'},\n",
    "{'exercise_name': 'Chest-Supported Low Rows with Neutral Grip', 'equipment': 'Machine', 'muscle_group': 'Upper Body', 'exercise_group': 'Row'},\n",
    "{'exercise_name': 'Chest-Supported Rows with Wide Grip', 'equipment': 'Machine', 'muscle_group': 'Upper Body', 'exercise_group': 'Row'},\n",
    "{'exercise_name': 'Concentration Curls', 'equipment': 'Dumbbells', 'muscle_group': 'Upper Body', 'exercise_group': 'Biceps Curl'},\n",
    "{'exercise_name': 'Crunch Machine', 'equipment': 'Machine', 'muscle_group': 'Core', 'exercise_group': 'Ab Crunch'},\n",
    "{'exercise_name': 'Curls', 'equipment': 'Barbell', 'muscle_group': 'Upper Body', 'exercise_group': 'Biceps Curl'},\n",
    "{'exercise_name': 'Curls', 'equipment': 'Cable', 'muscle_group': 'Upper Body', 'exercise_group': 'Biceps Curl'},\n",
    "{'exercise_name': 'Curls', 'equipment': 'Dumbbells', 'muscle_group': 'Upper Body', 'exercise_group': 'Biceps Curl'},\n",
    "{'exercise_name': 'Curls', 'equipment': 'EZ bar', 'muscle_group': 'Upper Body', 'exercise_group': 'Biceps Curl'},\n",
    "{'exercise_name': 'Decline Crunches', 'equipment': 'Bodyweight', 'muscle_group': 'Core', 'exercise_group': 'Ab Crunch'},\n",
    "{'exercise_name': 'Dips', 'equipment': 'Bodyweight', 'muscle_group': 'Upper Body', 'exercise_group': 'Dip'},\n",
    "{'exercise_name': 'Double Crunch Machine', 'equipment': 'Machine', 'muscle_group': 'Core', 'exercise_group': 'Ab Crunch'},\n",
    "{'exercise_name': 'Dragon Flag', 'equipment': 'Bodyweight', 'muscle_group': 'Core', 'exercise_group': 'Other'},\n",
    "{'exercise_name': 'Flys', 'equipment': 'Cable', 'muscle_group': 'Upper Body', 'exercise_group': 'Fly'},\n",
    "{'exercise_name': 'Flys', 'equipment': 'Dumbbells', 'muscle_group': 'Upper Body', 'exercise_group': 'Fly'},\n",
    "{'exercise_name': 'Forward Lunges', 'equipment': 'Dumbbells', 'muscle_group': 'Lower Body', 'exercise_group': 'Lunge'},\n",
    "{'exercise_name': 'Front Raises', 'equipment': 'Barbell', 'muscle_group': 'Upper Body', 'exercise_group': 'Front Raise'},\n",
    "{'exercise_name': 'Front Raises', 'equipment': 'Dumbbells', 'muscle_group': 'Upper Body', 'exercise_group': 'Front Raise'},\n",
    "{'exercise_name': 'Goblet Squats', 'equipment': 'Dumbbells', 'muscle_group': 'Lower Body', 'exercise_group': 'Squat'},\n",
    "{'exercise_name': 'Hanging Leg Raises', 'equipment': 'Bodyweight', 'muscle_group': 'Core', 'exercise_group': 'Leg Raise'},\n",
    "{'exercise_name': 'Hip Abduction', 'equipment': 'Cable', 'muscle_group': 'Lower Body', 'exercise_group': 'Hip Abduction'},\n",
    "{'exercise_name': 'Hip Abduction', 'equipment': 'Machine', 'muscle_group': 'Lower Body', 'exercise_group': 'Hip Abduction'},\n",
    "{'exercise_name': 'Hip Adduction', 'equipment': 'Cable', 'muscle_group': 'Lower Body', 'exercise_group': 'Hip Abduction'},\n",
    "{'exercise_name': 'Hip Adduction', 'equipment': 'Machine', 'muscle_group': 'Lower Body', 'exercise_group': 'Hip Abduction'},\n",
    "{'exercise_name': 'Hip Thrusts', 'equipment': 'Barbell', 'muscle_group': 'Lower Body', 'exercise_group': 'Hip Thrust'},\n",
    "{'exercise_name': 'Incline Bench Press', 'equipment': 'Barbell', 'muscle_group': 'Upper Body', 'exercise_group': 'Chest Press'},\n",
    "{'exercise_name': 'Incline Bench Press', 'equipment': 'Dumbbells', 'muscle_group': 'Upper Body', 'exercise_group': 'Chest Press'},\n",
    "{'exercise_name': 'Incline Reverse Flys', 'equipment': 'Dumbbells', 'muscle_group': 'Upper Body', 'exercise_group': 'Reverse Fly'},\n",
    "{'exercise_name': 'Incline Rows', 'equipment': 'Dumbbells', 'muscle_group': 'Upper Body', 'exercise_group': 'Row'},\n",
    "{'exercise_name': 'Inverted Rows on Smith Machine', 'equipment': 'Bodyweight', 'muscle_group': 'Upper Body', 'exercise_group': 'Row'},\n",
    "{'exercise_name': 'Inverted Rows on Smith Machine with Reverse Grip', 'equipment': 'Bodyweight', 'muscle_group': 'Upper Body', 'exercise_group': 'Row'},\n",
    "{'exercise_name': 'Kneeling Crunches', 'equipment': 'Cable', 'muscle_group': 'Core', 'exercise_group': 'Ab Crunch'},\n",
    "{'exercise_name': 'Lat Pulldowns with Close Neutral Grip', 'equipment': 'Cable', 'muscle_group': 'Upper Body', 'exercise_group': 'Pulldown'},\n",
    "{'exercise_name': 'Lat Pulldowns with Wide Neutral Grip', 'equipment': 'Cable', 'muscle_group': 'Upper Body', 'exercise_group': 'Pulldown'},\n",
    "{'exercise_name': 'Lat Pulldowns with Wide Overhand Grip', 'equipment': 'Cable', 'muscle_group': 'Upper Body', 'exercise_group': 'Pulldown'},\n",
    "{'exercise_name': 'Lateral Raises', 'equipment': 'Cable', 'muscle_group': 'Upper Body', 'exercise_group': 'Lateral Raise'},\n",
    "{'exercise_name': 'Lateral Raises', 'equipment': 'Dumbbells', 'muscle_group': 'Upper Body', 'exercise_group': 'Lateral Raise'},\n",
    "{'exercise_name': 'Lean Away Lateral Raises', 'equipment': 'Cable', 'muscle_group': 'Upper Body', 'exercise_group': 'Lateral Raise'},\n",
    "{'exercise_name': 'Leg Curls on Leg Extension Machine', 'equipment': 'Machine', 'muscle_group': 'Lower Body', 'exercise_group': 'Leg Curl'},\n",
    "{'exercise_name': 'Leg Extensions', 'equipment': 'Machine', 'muscle_group': 'Lower Body', 'exercise_group': 'Leg Extension'},\n",
    "{'exercise_name': 'Leg Press', 'equipment': 'Machine', 'muscle_group': 'Lower Body', 'exercise_group': 'Leg Press'},\n",
    "{'exercise_name': 'Leg Raises', 'equipment': 'Bodyweight', 'muscle_group': 'Core', 'exercise_group': 'Leg Raise'},\n",
    "{'exercise_name': 'Lying Leg Curls', 'equipment': 'Machine', 'muscle_group': 'Lower Body', 'exercise_group': 'Leg Curl'},\n",
    "{'exercise_name': 'One-Arm Rows', 'equipment': 'Dumbbells', 'muscle_group': 'Upper Body', 'exercise_group': 'Row'},\n",
    "{'exercise_name': 'Overhead Triceps Extensions', 'equipment': 'Dumbbells', 'muscle_group': 'Upper Body', 'exercise_group': 'Triceps Extension'},\n",
    "{'exercise_name': 'Pistol Squats', 'equipment': 'TRX', 'muscle_group': 'Lower Body', 'exercise_group': 'Squat'},\n",
    "{'exercise_name': 'Plank', 'equipment': 'Bodyweight', 'muscle_group': 'Core', 'exercise_group': 'Plank'},\n",
    "{'exercise_name': 'Preacher Curls', 'equipment': 'Machine', 'muscle_group': 'Upper Body', 'exercise_group': 'Biceps Curl'},\n",
    "{'exercise_name': 'Pull-Ups with Close Neutral Grip', 'equipment': 'Bodyweight', 'muscle_group': 'Upper Body', 'exercise_group': 'Pull-Up'},\n",
    "{'exercise_name': 'Pull-Ups with Wide Overhand Grip', 'equipment': 'Bodyweight', 'muscle_group': 'Upper Body', 'exercise_group': 'Pull-Up'},\n",
    "{'exercise_name': 'Pullovers', 'equipment': 'Cable', 'muscle_group': 'Upper Body', 'exercise_group': 'Lat Pull'},\n",
    "{'exercise_name': 'Push-Ups', 'equipment': 'Bodyweight', 'muscle_group': 'Upper Body', 'exercise_group': 'Push-Up'},\n",
    "{'exercise_name': 'Reverse Butterfly with Wide Grip', 'equipment': 'Machine', 'muscle_group': 'Upper Body', 'exercise_group': 'Reverse Fly'},\n",
    "{'exercise_name': 'Romanian Deadlifts', 'equipment': 'Barbell', 'muscle_group': 'Lower Body', 'exercise_group': 'Deadlift'},\n",
    "{'exercise_name': 'Rows with Close Grip', 'equipment': 'Cable', 'muscle_group': 'Upper Body', 'exercise_group': 'Row'},\n",
    "{'exercise_name': 'Rows with Close Grip', 'equipment': 'TRX', 'muscle_group': 'Upper Body', 'exercise_group': 'Row'},\n",
    "{'exercise_name': 'Rows with Reverse Grip', 'equipment': 'Cable', 'muscle_group': 'Upper Body', 'exercise_group': 'Row'},\n",
    "{'exercise_name': 'Rows with Wide Neutral Grip', 'equipment': 'Cable', 'muscle_group': 'Upper Body', 'exercise_group': 'Row'},\n",
    "{'exercise_name': 'Russian Swings', 'equipment': 'Kettlebells', 'muscle_group': 'Upper Body', 'exercise_group': 'Row'},\n",
    "{'exercise_name': 'Russian Twists', 'equipment': 'Bodyweight', 'muscle_group': 'Core', 'exercise_group': 'Other'},\n",
    "{'exercise_name': 'Seated Calf Raises', 'equipment': 'Machine', 'muscle_group': 'Lower Body', 'exercise_group': 'Calf Press'},\n",
    "{'exercise_name': 'Seated Curls', 'equipment': 'Dumbbells', 'muscle_group': 'Upper Body', 'exercise_group': 'Biceps Curl'},\n",
    "{'exercise_name': 'Seated Lateral Raises', 'equipment': 'Dumbbells', 'muscle_group': 'Upper Body', 'exercise_group': 'Lateral Raise'},\n",
    "{'exercise_name': 'Seated Leg Curls', 'equipment': 'Machine', 'muscle_group': 'Lower Body', 'exercise_group': 'Leg Curl'},\n",
    "{'exercise_name': 'Seated Shoulder Press', 'equipment': 'Barbell', 'muscle_group': 'Upper Body', 'exercise_group': 'Shoulder Press'},\n",
    "{'exercise_name': 'Seated Shoulder Press', 'equipment': 'Dumbbells', 'muscle_group': 'Upper Body', 'exercise_group': 'Shoulder Press'},\n",
    "{'exercise_name': 'Shoulder Press', 'equipment': 'Machine', 'muscle_group': 'Upper Body', 'exercise_group': 'Shoulder Press'},\n",
    "{'exercise_name': 'Side Bends on Roman Chair', 'equipment': 'Bodyweight', 'muscle_group': 'Core', 'exercise_group': 'Side Abs'},\n",
    "{'exercise_name': 'Side Plank', 'equipment': 'Bodyweight', 'muscle_group': 'Core', 'exercise_group': 'Side Abs'},\n",
    "{'exercise_name': 'Side Split Squats', 'equipment': 'Dumbbells', 'muscle_group': 'Lower Body', 'exercise_group': 'Squat'},\n",
    "{'exercise_name': 'Skull Crushers', 'equipment': 'Cable', 'muscle_group': 'Upper Body', 'exercise_group': 'Triceps Extension'},\n",
    "{'exercise_name': 'Skull Crushers', 'equipment': 'EZ bar', 'muscle_group': 'Upper Body', 'exercise_group': 'Triceps Extension'},\n",
    "{'exercise_name': 'Squats', 'equipment': 'Barbell', 'muscle_group': 'Lower Body', 'exercise_group': 'Squat'},\n",
    "{'exercise_name': 'Squats', 'equipment': 'Smith machine', 'muscle_group': 'Lower Body', 'exercise_group': 'Squat'},\n",
    "{'exercise_name': 'Standing Calf Raises', 'equipment': 'Bodyweight', 'muscle_group': 'Lower Body', 'exercise_group': 'Calf Press'},\n",
    "{'exercise_name': 'Standing Calf Raises', 'equipment': 'Machine', 'muscle_group': 'Lower Body', 'exercise_group': 'Calf Press'},\n",
    "{'exercise_name': 'Standing Shoulder Press', 'equipment': 'Barbell', 'muscle_group': 'Upper Body', 'exercise_group': 'Shoulder Press'},\n",
    "{'exercise_name': 'Triceps Pushdowns', 'equipment': 'Cable', 'muscle_group': 'Upper Body', 'exercise_group': 'Triceps Extension'},\n",
    "{'exercise_name': 'Triceps Pushdowns with Rope', 'equipment': 'Cable', 'muscle_group': 'Upper Body', 'exercise_group': 'Triceps Extension'},\n",
    "{'exercise_name': 'Upright Rows', 'equipment': 'Barbell', 'muscle_group': 'Upper Body', 'exercise_group': 'Row'},\n",
    "{'exercise_name': 'Elevated Dragon Squats', 'equipment': 'Bodyweight', 'muscle_group': 'Lower Body', 'exercise_group': 'Squat'},\n",
    "{'exercise_name': 'Frog stand hold', 'equipment': 'Bodyweight', 'muscle_group': 'Upper Body', 'exercise_group': 'Front Raise'},\n",
    "{'exercise_name': 'Full Nordic Curls', 'equipment': 'Bodyweight', 'muscle_group': 'Lower Body', 'exercise_group': 'Leg Curl'},\n",
    "{'exercise_name': 'Natural Leg Extensions', 'equipment': 'Bodyweight', 'muscle_group': 'Lower Body', 'exercise_group': 'Leg Extension'},\n",
    "{'exercise_name': 'Negative Nordic Curls', 'equipment': 'Bodyweight', 'muscle_group': 'Lower Body', 'exercise_group': 'Leg Curl'},\n",
    "{'exercise_name': 'Shrimp Squats', 'equipment': 'Bodyweight', 'muscle_group': 'Lower Body', 'exercise_group': 'Squat'},\n",
    "{'exercise_name': 'Sumo Belt Squats', 'equipment': 'Machine', 'muscle_group': 'Lower Body', 'exercise_group': 'Squat'},\n",
    "{'exercise_name': 'Typewriter pullups', 'equipment': 'Bodyweight', 'muscle_group': 'Upper Body', 'exercise_group': 'Pull-Up'},\n",
    "{'exercise_name': 'Wall Handstand Hold', 'equipment': 'Bodyweight', 'muscle_group': 'Upper Body', 'exercise_group': 'Pike'},\n",
    "{'exercise_name': 'Chest Press', 'equipment': 'TRX', 'muscle_group': 'Upper Body', 'exercise_group': 'Chest Press'},\n",
    "{'exercise_name': 'Curls with Raised Arms', 'equipment': 'TRX', 'muscle_group': 'Upper Body', 'exercise_group': 'Biceps Curl'},\n",
    "{'exercise_name': 'Flys', 'equipment': 'TRX', 'muscle_group': 'Upper Body', 'exercise_group': 'Fly'},\n",
    "{'exercise_name': 'One-Arm Rows', 'equipment': 'TRX', 'muscle_group': 'Upper Body', 'exercise_group': 'Row'},\n",
    "{'exercise_name': 'Pull-Ups with Wide Neutral Grip', 'equipment': 'Bodyweight', 'muscle_group': 'Upper Body', 'exercise_group': 'Pull-Up'},\n",
    "{'exercise_name': 'Push-Ups with Wide Grip', 'equipment': 'Bodyweight', 'muscle_group': 'Upper Body', 'exercise_group': 'Push-Up'},\n",
    "{'exercise_name': 'Reverse Flys', 'equipment': 'TRX', 'muscle_group': 'Upper Body', 'exercise_group': 'Reverse Fly'},\n",
    "{'exercise_name': '', 'equipment': '', 'muscle_group': '', 'exercise_group': ''},\n",
    "]\n",
    "\n",
    "df_exercise_grouping = pd.DataFrame.from_dict(exercise_groups)"
   ]
  },
  {
   "cell_type": "code",
   "execution_count": 56,
   "metadata": {},
   "outputs": [],
   "source": [
    "df_exercisesref_groups = df_exercisesref_orig.merge(df_exercise_grouping, how='left', on=['exercise_name', 'equipment'])\n",
    "df_exercisesref_groups['muscle_group'] = df_exercisesref_groups['muscle_group'].fillna('MISSING')"
   ]
  },
  {
   "cell_type": "markdown",
   "metadata": {},
   "source": [
    "### Normalization"
   ]
  },
  {
   "cell_type": "code",
   "execution_count": 57,
   "metadata": {},
   "outputs": [],
   "source": [
    "# Decided to skip this for now"
   ]
  },
  {
   "cell_type": "code",
   "execution_count": 58,
   "metadata": {},
   "outputs": [],
   "source": [
    "df_exercisesref_normalized = df_exercisesref_groups.copy()"
   ]
  },
  {
   "cell_type": "code",
   "execution_count": 59,
   "metadata": {},
   "outputs": [],
   "source": [
    "#df_exercisesref_normalized[\"auxiliary_muscles\"] = df_exercisesref_groups[\"auxiliary_muscles\"].str.split(\", \")"
   ]
  },
  {
   "cell_type": "code",
   "execution_count": 60,
   "metadata": {},
   "outputs": [],
   "source": [
    "hold_aux_muscles = '''\n",
    "all_auxiliary_muscles = []\n",
    "for muscles in df_exercisesref_normalized[\"auxiliary_muscles\"]:\n",
    "    for muscle in muscles:\n",
    "        if muscle not in all_auxiliary_muscles:\n",
    "            all_auxiliary_muscles.append(f\"aux_{muscle.lower()}\")\n",
    "\n",
    "all_auxiliary_muscles.sort()\n",
    "all_auxiliary_muscles.pop(0)\n",
    "all_auxiliary_muscles.pop(0)\n",
    "\n",
    "for muscle in all_auxiliary_muscles:\n",
    "    df_exercisesref_normalized[muscle] = df_exercisesref_normalized[\"auxiliary_muscles\"].apply(lambda x: muscle in x)\n",
    "'''"
   ]
  },
  {
   "cell_type": "markdown",
   "metadata": {},
   "source": [
    "### Final"
   ]
  },
  {
   "cell_type": "code",
   "execution_count": 61,
   "metadata": {},
   "outputs": [],
   "source": [
    "df_exercisesref_final = df_exercisesref_normalized.copy()\n",
    "\n",
    "df_exercisesref_final['id'] = generate_exercise_id(df_exercisesref_normalized['exercise_name'], df_exercisesref_normalized['equipment'])"
   ]
  },
  {
   "cell_type": "code",
   "execution_count": 62,
   "metadata": {},
   "outputs": [],
   "source": [
    "#df_exercisesref_final[['exercise_name', 'equipment', 'exercise_name_formatted', 'equipment_short', 'id']]#.query(\" equipment_short == 'MISSING' \")"
   ]
  },
  {
   "cell_type": "code",
   "execution_count": 63,
   "metadata": {},
   "outputs": [],
   "source": [
    "df_exercisesref_final = df_exercisesref_final[[\n",
    "    'id',\n",
    "    'custom_exercise',\n",
    "    'exercise_name',\n",
    "    'equipment',\n",
    "    'muscle_group',\n",
    "    'exercise_group',\n",
    "    'main_muscle',\n",
    "    'auxiliary_muscles',\n",
    "    'size',\n",
    "    'metrics',\n",
    "    'bodyweight',\n",
    "    'notes'\n",
    "]]"
   ]
  },
  {
   "cell_type": "code",
   "execution_count": 65,
   "metadata": {},
   "outputs": [],
   "source": [
    "#df_exercisesref_final"
   ]
  },
  {
   "cell_type": "markdown",
   "metadata": {},
   "source": [
    "## Workouts"
   ]
  },
  {
   "cell_type": "code",
   "execution_count": 137,
   "metadata": {},
   "outputs": [],
   "source": [
    "df_workouts_formatted = df_workouts_orig.copy()"
   ]
  },
  {
   "cell_type": "code",
   "execution_count": 138,
   "metadata": {},
   "outputs": [],
   "source": [
    "df_workouts_formatted['day_number'] = df_workouts_orig['day_number'].apply(extract_day_or_week).astype('string')\n",
    "df_workouts_formatted['week_number'] = df_workouts_orig['week_number'].apply(extract_day_or_week).astype('string')\n",
    "df_workouts_formatted['start_time'] = pd.to_datetime(df_workouts_orig['start_time'], format=\"%Y-%m-%d %H:%M h\")\n",
    "df_workouts_formatted['duration'] = df_workouts_orig['duration'].apply(convert_to_minutes)\n",
    "df_workouts_formatted['end_time'] = df_workouts_formatted['start_time'] + pd.to_timedelta(df_workouts_formatted['duration'], unit='m')"
   ]
  },
  {
   "cell_type": "code",
   "execution_count": 139,
   "metadata": {},
   "outputs": [],
   "source": [
    "#df_workouts_formatted.iloc[:20]"
   ]
  },
  {
   "cell_type": "markdown",
   "metadata": {},
   "source": [
    "## Exercises Log"
   ]
  },
  {
   "cell_type": "code",
   "execution_count": 140,
   "metadata": {},
   "outputs": [],
   "source": [
    "df_exerciseslog_formatted = df_exerciseslog_orig.copy()"
   ]
  },
  {
   "cell_type": "code",
   "execution_count": 143,
   "metadata": {},
   "outputs": [],
   "source": [
    "df_exerciseslog_formatted['id'] =  df_exerciseslog_formatted['workout_id'] + '_' + df_exerciseslog_formatted['exercise_number'] + '_' + df_exerciseslog_formatted['set_number']\n",
    "df_exerciseslog_formatted['exercise_id'] = generate_exercise_id(df_exerciseslog_formatted['exercise_name'], df_exerciseslog_formatted['equipment'])"
   ]
  },
  {
   "cell_type": "code",
   "execution_count": 145,
   "metadata": {},
   "outputs": [],
   "source": [
    "# convert values in minutes to seconds\n",
    "mask_mins = (df_exerciseslog_formatted[\"measure\"] == \"mins\")\n",
    "\n",
    "df_exerciseslog_formatted['goal'] = df_exerciseslog_formatted['goal'].apply(strip_measure)\n",
    "df_exerciseslog_formatted.loc[mask_mins, \"goal\"] = df_exerciseslog_formatted.loc[mask_mins]['goal'].apply(convert_to_seconds)\n",
    "df_exerciseslog_formatted.loc[mask_mins, \"quantity\"] = df_exerciseslog_orig.loc[mask_mins, \"quantity\"].apply(convert_to_seconds)\n",
    "df_exerciseslog_formatted.loc[df_exerciseslog_orig[\"measure\"] == \"mins\", \"measure\"] = \"secs\""
   ]
  },
  {
   "cell_type": "code",
   "execution_count": 146,
   "metadata": {},
   "outputs": [],
   "source": [
    "df_exerciseslog_formatted['goal'] = df_exerciseslog_formatted['goal'].fillna(0).astype('int64')\n",
    "df_exerciseslog_formatted['quantity'] = df_exerciseslog_formatted['quantity'].replace('-', 0).astype('int64')\n",
    "df_exerciseslog_formatted['weight'] = df_exerciseslog_formatted['weight'].str.replace(\"+\", \"\").str.replace(\",\", \".\").replace('-', 0).replace('', 0).fillna(0).astype('float64')"
   ]
  },
  {
   "cell_type": "code",
   "execution_count": 147,
   "metadata": {},
   "outputs": [],
   "source": [
    "df_exerciseslog_formatted['volume'] = df_exerciseslog_formatted['weight'] * df_exerciseslog_formatted['quantity']"
   ]
  },
  {
   "cell_type": "code",
   "execution_count": 148,
   "metadata": {},
   "outputs": [],
   "source": [
    "# when an exercise uses dumbbells, multiply its weight by 2 to yield total weight\n",
    "\n",
    "df_exerciseslog_formatted['total_weight'] = df_exerciseslog_formatted['weight']\n",
    "\n",
    "mask_dumbbells = (df_exerciseslog_formatted[\"equipment\"] == \"Dumbbells\")\n",
    "df_exerciseslog_formatted.loc[mask_dumbbells, \"total_weight\"] = df_exerciseslog_formatted.loc[mask_dumbbells, \"total_weight\"] * 2"
   ]
  },
  {
   "cell_type": "code",
   "execution_count": 150,
   "metadata": {},
   "outputs": [],
   "source": [
    "df_exerciseslog_formatted = df_exerciseslog_formatted[[\n",
    "    'id',\n",
    "    'exercise_id',\n",
    "    'workout_id',\n",
    "    'exercise_number',\n",
    "    'exercise_name',\n",
    "    'equipment',\n",
    "    'goal',\n",
    "    'measure',\n",
    "    'set_number',\n",
    "    'weight',\n",
    "    'total_weight',\n",
    "    'quantity',\n",
    "    'volume'\n",
    "]]"
   ]
  },
  {
   "cell_type": "markdown",
   "metadata": {},
   "source": [
    "# Load"
   ]
  },
  {
   "cell_type": "code",
   "execution_count": 156,
   "metadata": {},
   "outputs": [],
   "source": [
    "#df_workouts_formatted.to_csv(f\"{GOLD_FOLDER}/workouts.csv\", sep=\";\", decimal=',', index=False)\n",
    "#df_exercisesref_final.to_csv(f\"{GOLD_FOLDER}/exercises_ref.csv\", sep=\";\", decimal=',', index=False)\n",
    "#df_exerciseslog_formatted.to_csv(f\"{GOLD_FOLDER}/exercises_log.csv\", sep=\";\", decimal=',', index=False)"
   ]
  },
  {
   "cell_type": "code",
   "execution_count": 162,
   "metadata": {},
   "outputs": [],
   "source": [
    "#insert_df(df_workouts_formatted, 'gold_dim_workouts', 'ap_workouts')"
   ]
  },
  {
   "cell_type": "code",
   "execution_count": null,
   "metadata": {},
   "outputs": [],
   "source": [
    "#insert_df(df_exercisesref_final, 'gold_dim_exercisesref', 'ap_workouts')"
   ]
  },
  {
   "cell_type": "code",
   "execution_count": null,
   "metadata": {},
   "outputs": [],
   "source": [
    "#insert_df(df_exerciseslog_formatted, 'gold_fact_sets', 'ap_workouts')"
   ]
  },
  {
   "cell_type": "markdown",
   "metadata": {},
   "source": [
    "# Tests"
   ]
  },
  {
   "cell_type": "code",
   "execution_count": 70,
   "metadata": {},
   "outputs": [],
   "source": [
    "#df_workouts_formatted"
   ]
  },
  {
   "cell_type": "code",
   "execution_count": 87,
   "metadata": {},
   "outputs": [],
   "source": [
    "#df_exerciseslog_formatted"
   ]
  },
  {
   "cell_type": "code",
   "execution_count": 88,
   "metadata": {},
   "outputs": [],
   "source": [
    "#df_exercises_ref"
   ]
  }
 ],
 "metadata": {
  "kernelspec": {
   "display_name": "Python 3",
   "language": "python",
   "name": "python3"
  },
  "language_info": {
   "codemirror_mode": {
    "name": "ipython",
    "version": 3
   },
   "file_extension": ".py",
   "mimetype": "text/x-python",
   "name": "python",
   "nbconvert_exporter": "python",
   "pygments_lexer": "ipython3",
   "version": "3.11.2"
  }
 },
 "nbformat": 4,
 "nbformat_minor": 2
}
