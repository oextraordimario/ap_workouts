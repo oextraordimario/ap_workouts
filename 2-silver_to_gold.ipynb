{
 "cells": [
  {
   "cell_type": "markdown",
   "metadata": {},
   "source": [
    "# Prep"
   ]
  },
  {
   "cell_type": "code",
   "execution_count": 1,
   "metadata": {},
   "outputs": [],
   "source": [
    "import pandas as pd\n",
    "import numpy as np"
   ]
  },
  {
   "cell_type": "code",
   "execution_count": 2,
   "metadata": {},
   "outputs": [],
   "source": [
    "SILVER_FOLDER = r'C:\\Users\\User\\Documents\\GitHub\\ap_workouts\\b2-silver'\n",
    "GOLD_FOLDER = r'C:\\Users\\User\\Documents\\GitHub\\ap_workouts\\b3-gold'"
   ]
  },
  {
   "cell_type": "markdown",
   "metadata": {},
   "source": [
    "# Functions"
   ]
  },
  {
   "cell_type": "markdown",
   "metadata": {},
   "source": [
    "## Transform"
   ]
  },
  {
   "cell_type": "code",
   "execution_count": 3,
   "metadata": {},
   "outputs": [],
   "source": [
    "def extract_day_or_week(value):\n",
    "    if value == \"Standalone workout\":\n",
    "        return 0\n",
    "    elif value.split()[-1].isdigit():\n",
    "        return int(value.split()[-1])"
   ]
  },
  {
   "cell_type": "code",
   "execution_count": 4,
   "metadata": {},
   "outputs": [],
   "source": [
    "def convert_to_minutes(duration):\n",
    "    if \"hr\" in duration:\n",
    "        if ':' in duration:\n",
    "            hours, minutes = duration.replace(\" hr\", \"\").split(\":\")\n",
    "            return int(hours) * 60 + int(minutes)\n",
    "        else:\n",
    "            return int(duration.replace(\" hr\", \"\")) * 60\n",
    "    elif \"min\" in duration:\n",
    "        return int(duration.replace(\" min\", \"\"))\n",
    "    else:\n",
    "        return None"
   ]
  },
  {
   "cell_type": "code",
   "execution_count": 5,
   "metadata": {},
   "outputs": [],
   "source": [
    "def convert_to_seconds(duration):\n",
    "    if pd.isna(duration):\n",
    "        return 0\n",
    "    elif ':' in duration:\n",
    "        minutes, seconds = duration.split(\":\")\n",
    "        return int(minutes) * 60 + int(seconds)\n",
    "    else:\n",
    "        return int(duration) * 60"
   ]
  },
  {
   "cell_type": "code",
   "execution_count": 6,
   "metadata": {},
   "outputs": [],
   "source": [
    "def strip_measure(value):\n",
    "    if pd.isna(value):\n",
    "        return np.nan\n",
    "    else:\n",
    "        return value.split()[0]"
   ]
  },
  {
   "cell_type": "markdown",
   "metadata": {},
   "source": [
    "# Extract"
   ]
  },
  {
   "cell_type": "code",
   "execution_count": 7,
   "metadata": {},
   "outputs": [],
   "source": [
    "df_workouts_orig = pd.read_csv(f\"{SILVER_FOLDER}/workouts.csv\", sep=\";\", decimal=',')\n",
    "df_exercises_log_orig = pd.read_csv(f\"{SILVER_FOLDER}/exercises_log.csv\", sep=\";\", decimal=',')\n",
    "df_exercises_ref_orig = pd.read_csv(f\"{SILVER_FOLDER}/exercises_ref.csv\", sep=\";\")"
   ]
  },
  {
   "cell_type": "markdown",
   "metadata": {},
   "source": [
    "# Transform"
   ]
  },
  {
   "cell_type": "markdown",
   "metadata": {},
   "source": [
    "## Workouts"
   ]
  },
  {
   "cell_type": "code",
   "execution_count": 8,
   "metadata": {},
   "outputs": [],
   "source": [
    "df_workouts_copied = df_workouts_orig.copy()"
   ]
  },
  {
   "cell_type": "code",
   "execution_count": 9,
   "metadata": {},
   "outputs": [],
   "source": [
    "df_workouts_copied['day_number'] = df_workouts_copied['day_number'].apply(extract_day_or_week).astype('string')\n",
    "df_workouts_copied['week_number'] = df_workouts_copied['week_number'].apply(extract_day_or_week).astype('string')\n",
    "df_workouts_copied['start_time'] = pd.to_datetime(df_workouts_copied['start_time'], format=\"%Y-%m-%d %H:%M h\")\n",
    "df_workouts_copied['duration'] = df_workouts_copied['duration'].apply(convert_to_minutes)\n",
    "df_workouts_copied['end_time'] = df_workouts_copied['start_time'] + pd.to_timedelta(df_workouts_copied['duration'], unit='m')"
   ]
  },
  {
   "cell_type": "code",
   "execution_count": 10,
   "metadata": {},
   "outputs": [],
   "source": [
    "#df_workouts.iloc[:20]"
   ]
  },
  {
   "cell_type": "markdown",
   "metadata": {},
   "source": [
    "## Exercises log"
   ]
  },
  {
   "cell_type": "code",
   "execution_count": 16,
   "metadata": {},
   "outputs": [],
   "source": [
    "df_exercises_log_copied = df_exercises_log_orig.copy()"
   ]
  },
  {
   "cell_type": "code",
   "execution_count": 13,
   "metadata": {},
   "outputs": [],
   "source": [
    "# convert values in minutes to seconds\n",
    "mask_mins = (df_exercises_log_copied[\"measure\"] == \"mins\")\n",
    "\n",
    "df_exercises_log_copied['goal'] = df_exercises_log_copied['goal'].apply(strip_measure)\n",
    "df_exercises_log_copied.loc[mask_mins, \"goal\"] = df_exercises_log_copied.loc[mask_mins, \"goal\"].apply(convert_to_seconds)\n",
    "df_exercises_log_copied.loc[mask_mins, \"quantity\"] = df_exercises_log_copied.loc[mask_mins, \"quantity\"].apply(convert_to_seconds)\n",
    "df_exercises_log_copied.loc[df_exercises_log_copied[\"measure\"] == \"mins\", \"measure\"] = \"secs\""
   ]
  },
  {
   "cell_type": "code",
   "execution_count": 13,
   "metadata": {},
   "outputs": [],
   "source": [
    "df_exercises_log_copied['goal'] = df_exercises_log_copied['goal'].fillna(0).astype('int64')\n",
    "df_exercises_log_copied['quantity'] = df_exercises_log_copied['quantity'].replace('-', 0).astype('int64')\n",
    "df_exercises_log_copied['weight'] = df_exercises_log_copied['weight'].str.replace(\"+\", \"\").str.replace(\",\", \".\").replace('-', 0).fillna(0).astype('float64')"
   ]
  },
  {
   "cell_type": "code",
   "execution_count": 14,
   "metadata": {},
   "outputs": [],
   "source": [
    "df_exercises_log_copied['volume'] = df_exercises_log_copied['weight'] * df_exercises_log_copied['quantity']"
   ]
  },
  {
   "cell_type": "code",
   "execution_count": 15,
   "metadata": {},
   "outputs": [],
   "source": [
    "# when an exercise uses dumbbells, multiply its weight by 2 to yield total weight\n",
    "\n",
    "df_exercises_log_copied['total_weight'] = df_exercises_log_copied['weight']\n",
    "\n",
    "mask_dumbbells = (df_exercises_log_copied[\"equipment\"] == \"Dumbbells\")\n",
    "df_exercises_log_copied.loc[mask_dumbbells, \"total_weight\"] = df_exercises_log_copied.loc[mask_dumbbells, \"total_weight\"] * 2"
   ]
  },
  {
   "cell_type": "code",
   "execution_count": 16,
   "metadata": {},
   "outputs": [],
   "source": [
    "df_exercises_log_copied = df_exercises_log_copied[[\n",
    "    'workout_id',\n",
    "    'exercise_number',\n",
    "    'exercise_name',\n",
    "    'equipment',\n",
    "    'goal',\n",
    "    'measure',\n",
    "    'set_number',\n",
    "    'weight',\n",
    "    'total_weight',\n",
    "    'quantity',\n",
    "    'volume'\n",
    "]]"
   ]
  },
  {
   "cell_type": "markdown",
   "metadata": {},
   "source": [
    "# Save"
   ]
  },
  {
   "cell_type": "code",
   "execution_count": 17,
   "metadata": {},
   "outputs": [],
   "source": [
    "df_workouts_copied.to_csv(f\"{GOLD_FOLDER}/workouts.csv\", sep=\";\", decimal=',', index=False)\n",
    "df_exercises_log_copied.to_csv(f\"{GOLD_FOLDER}/exercises_log.csv\", sep=\";\", decimal=',', index=False)"
   ]
  }
 ],
 "metadata": {
  "kernelspec": {
   "display_name": "Python 3",
   "language": "python",
   "name": "python3"
  },
  "language_info": {
   "codemirror_mode": {
    "name": "ipython",
    "version": 3
   },
   "file_extension": ".py",
   "mimetype": "text/x-python",
   "name": "python",
   "nbconvert_exporter": "python",
   "pygments_lexer": "ipython3",
   "version": "3.11.2"
  }
 },
 "nbformat": 4,
 "nbformat_minor": 2
}
