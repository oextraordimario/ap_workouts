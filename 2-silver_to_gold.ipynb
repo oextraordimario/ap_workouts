{
 "cells": [
  {
   "cell_type": "markdown",
   "metadata": {},
   "source": [
    "# Prep"
   ]
  },
  {
   "cell_type": "code",
   "execution_count": 2,
   "metadata": {},
   "outputs": [],
   "source": [
    "import pandas as pd"
   ]
  },
  {
   "cell_type": "code",
   "execution_count": 42,
   "metadata": {},
   "outputs": [],
   "source": [
    "SILVER_FOLDER = r'C:\\Users\\User\\Documents\\GitHub\\ap_workouts\\silver_tables'\n",
    "GOLD_FOLDER = r'C:\\Users\\User\\Documents\\GitHub\\ap_workouts\\gold_tables'"
   ]
  },
  {
   "cell_type": "markdown",
   "metadata": {},
   "source": [
    "# Functions"
   ]
  },
  {
   "cell_type": "markdown",
   "metadata": {},
   "source": [
    "## Transform"
   ]
  },
  {
   "cell_type": "code",
   "execution_count": 9,
   "metadata": {},
   "outputs": [],
   "source": [
    "def extract_day_or_week(value):\n",
    "    if value == \"Standalone workout\":\n",
    "        return 0\n",
    "    elif value.split()[-1].isdigit():\n",
    "        return int(value.split()[-1])"
   ]
  },
  {
   "cell_type": "code",
   "execution_count": 27,
   "metadata": {},
   "outputs": [],
   "source": [
    "def convert_to_minutes(duration):\n",
    "    if \"hr\" in duration:\n",
    "        if ':' in duration:\n",
    "            hours, minutes = duration.replace(\" hr\", \"\").split(\":\")\n",
    "            return int(hours) * 60 + int(minutes)\n",
    "        else:\n",
    "            return int(duration.replace(\" hr\", \"\")) * 60\n",
    "    elif \"min\" in duration:\n",
    "        return int(duration.replace(\" min\", \"\"))\n",
    "    else:\n",
    "        return None"
   ]
  },
  {
   "cell_type": "markdown",
   "metadata": {},
   "source": [
    "# Extract"
   ]
  },
  {
   "cell_type": "code",
   "execution_count": 37,
   "metadata": {},
   "outputs": [],
   "source": [
    "df_workouts = pd.read_csv(f\"{SILVER_FOLDER}/workouts.csv\", sep=\";\", decimal=',')\n",
    "df_exercises_log = pd.read_csv(f\"{SILVER_FOLDER}/exercises_log.csv\", sep=\";\", decimal=',')\n",
    "df_exercises_ref = pd.read_csv(f\"{SILVER_FOLDER}/exercises_ref.csv\", sep=\";\")"
   ]
  },
  {
   "cell_type": "markdown",
   "metadata": {},
   "source": [
    "# Transform"
   ]
  },
  {
   "cell_type": "markdown",
   "metadata": {},
   "source": [
    "## Workouts"
   ]
  },
  {
   "cell_type": "code",
   "execution_count": 38,
   "metadata": {},
   "outputs": [],
   "source": [
    "df_workouts['day_number'] = df_workouts['day_number'].apply(extract_day_or_week).astype('string')\n",
    "df_workouts['week_number'] = df_workouts['week_number'].apply(extract_day_or_week).astype('string')\n",
    "df_workouts['start_time'] = pd.to_datetime(df_workouts['start_time'], format=\"%Y-%m-%d %H:%M h\")\n",
    "df_workouts['duration'] = df_workouts['duration'].apply(convert_to_minutes)\n",
    "df_workouts['end_time'] = df_workouts['start_time'] + pd.to_timedelta(df_workouts['duration'], unit='m')"
   ]
  },
  {
   "cell_type": "code",
   "execution_count": 40,
   "metadata": {},
   "outputs": [],
   "source": [
    "#df_workouts.iloc[:20]"
   ]
  },
  {
   "cell_type": "markdown",
   "metadata": {},
   "source": [
    "## Exercises log"
   ]
  },
  {
   "cell_type": "code",
   "execution_count": 41,
   "metadata": {},
   "outputs": [],
   "source": [
    "#df_exercises_log"
   ]
  },
  {
   "cell_type": "markdown",
   "metadata": {},
   "source": [
    "# Save"
   ]
  },
  {
   "cell_type": "code",
   "execution_count": 43,
   "metadata": {},
   "outputs": [],
   "source": [
    "df_workouts.to_csv(f\"{GOLD_FOLDER}/gold_workouts.csv\", sep=\";\", decimal=',', index=False)\n",
    "df_exercises_log.to_csv(f\"{GOLD_FOLDER}/gold_exerciseslog.csv\", sep=\";\", decimal=',', index=False)"
   ]
  }
 ],
 "metadata": {
  "kernelspec": {
   "display_name": "Python 3",
   "language": "python",
   "name": "python3"
  },
  "language_info": {
   "codemirror_mode": {
    "name": "ipython",
    "version": 3
   },
   "file_extension": ".py",
   "mimetype": "text/x-python",
   "name": "python",
   "nbconvert_exporter": "python",
   "pygments_lexer": "ipython3",
   "version": "3.11.2"
  }
 },
 "nbformat": 4,
 "nbformat_minor": 2
}
