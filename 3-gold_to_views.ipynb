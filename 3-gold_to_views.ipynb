{
 "cells": [
  {
   "cell_type": "markdown",
   "metadata": {},
   "source": [
    "# Prep"
   ]
  },
  {
   "cell_type": "code",
   "execution_count": 20,
   "metadata": {},
   "outputs": [],
   "source": [
    "import pandas as pd"
   ]
  },
  {
   "cell_type": "code",
   "execution_count": 76,
   "metadata": {},
   "outputs": [],
   "source": [
    "GOLD_FOLDER = r'C:\\Users\\User\\Documents\\GitHub\\ap_workouts\\b3-gold'\n",
    "VIEWS_FOLDER = r'C:\\Users\\User\\Documents\\GitHub\\ap_workouts\\b4-views'"
   ]
  },
  {
   "cell_type": "markdown",
   "metadata": {},
   "source": [
    "# Functions"
   ]
  },
  {
   "cell_type": "markdown",
   "metadata": {},
   "source": [
    "## Transform"
   ]
  },
  {
   "cell_type": "markdown",
   "metadata": {},
   "source": [
    "# Extract"
   ]
  },
  {
   "cell_type": "code",
   "execution_count": 46,
   "metadata": {},
   "outputs": [],
   "source": [
    "df_workouts = pd.read_csv(f\"{GOLD_FOLDER}/workouts.csv\", sep=\";\", decimal=',')\n",
    "df_exercises_log = pd.read_csv(f\"{GOLD_FOLDER}/exercises_log.csv\", sep=\";\", decimal=',')\n",
    "df_exercises_ref = pd.read_csv(f\"{GOLD_FOLDER}/exercises_ref.csv\")"
   ]
  },
  {
   "cell_type": "markdown",
   "metadata": {},
   "source": [
    "# Transform"
   ]
  },
  {
   "cell_type": "markdown",
   "metadata": {},
   "source": [
    "## Single Sets"
   ]
  },
  {
   "cell_type": "code",
   "execution_count": 69,
   "metadata": {},
   "outputs": [],
   "source": [
    "df_single_sets = (\n",
    "    df_exercises_log\n",
    "    .merge(\n",
    "        df_exercises_ref[['exercise_name', 'muscle_group', 'exercise_group', 'main_muscle']],\n",
    "        how='left',\n",
    "        on=('exercise_name')\n",
    "        )\n",
    ")"
   ]
  },
  {
   "cell_type": "code",
   "execution_count": 70,
   "metadata": {},
   "outputs": [],
   "source": [
    "df_single_sets = df_single_sets[[\n",
    "    'workout_id',\n",
    "    'exercise_number',\n",
    "    'exercise_name',\n",
    "    'equipment',\n",
    "    'muscle_group',\n",
    "    'exercise_group',\n",
    "    'main_muscle',\n",
    "    'goal',\n",
    "    'measure',\n",
    "    'set_number',\n",
    "    'weight',\n",
    "    'quantity',\n",
    "    'volume'\n",
    "]]"
   ]
  },
  {
   "cell_type": "code",
   "execution_count": 71,
   "metadata": {},
   "outputs": [
    {
     "data": {
      "text/html": [
       "<div>\n",
       "<style scoped>\n",
       "    .dataframe tbody tr th:only-of-type {\n",
       "        vertical-align: middle;\n",
       "    }\n",
       "\n",
       "    .dataframe tbody tr th {\n",
       "        vertical-align: top;\n",
       "    }\n",
       "\n",
       "    .dataframe thead th {\n",
       "        text-align: right;\n",
       "    }\n",
       "</style>\n",
       "<table border=\"1\" class=\"dataframe\">\n",
       "  <thead>\n",
       "    <tr style=\"text-align: right;\">\n",
       "      <th></th>\n",
       "      <th>workout_id</th>\n",
       "      <th>exercise_number</th>\n",
       "      <th>exercise_name</th>\n",
       "      <th>equipment</th>\n",
       "      <th>muscle_group</th>\n",
       "      <th>exercise_group</th>\n",
       "      <th>main_muscle</th>\n",
       "      <th>goal</th>\n",
       "      <th>measure</th>\n",
       "      <th>set_number</th>\n",
       "      <th>weight</th>\n",
       "      <th>quantity</th>\n",
       "      <th>volume</th>\n",
       "    </tr>\n",
       "  </thead>\n",
       "  <tbody>\n",
       "    <tr>\n",
       "      <th>0</th>\n",
       "      <td>202410301632</td>\n",
       "      <td>1</td>\n",
       "      <td>Leg Press</td>\n",
       "      <td>Machine</td>\n",
       "      <td>Lower Body</td>\n",
       "      <td>Leg Press</td>\n",
       "      <td>Quads</td>\n",
       "      <td>12</td>\n",
       "      <td>reps</td>\n",
       "      <td>1</td>\n",
       "      <td>210.0</td>\n",
       "      <td>15</td>\n",
       "      <td>3150.0</td>\n",
       "    </tr>\n",
       "    <tr>\n",
       "      <th>1</th>\n",
       "      <td>202410301632</td>\n",
       "      <td>1</td>\n",
       "      <td>Leg Press</td>\n",
       "      <td>Machine</td>\n",
       "      <td>Lower Body</td>\n",
       "      <td>Leg Press</td>\n",
       "      <td>Quads</td>\n",
       "      <td>12</td>\n",
       "      <td>reps</td>\n",
       "      <td>2</td>\n",
       "      <td>210.0</td>\n",
       "      <td>15</td>\n",
       "      <td>3150.0</td>\n",
       "    </tr>\n",
       "    <tr>\n",
       "      <th>2</th>\n",
       "      <td>202410301632</td>\n",
       "      <td>1</td>\n",
       "      <td>Leg Press</td>\n",
       "      <td>Machine</td>\n",
       "      <td>Lower Body</td>\n",
       "      <td>Leg Press</td>\n",
       "      <td>Quads</td>\n",
       "      <td>12</td>\n",
       "      <td>reps</td>\n",
       "      <td>3</td>\n",
       "      <td>210.0</td>\n",
       "      <td>13</td>\n",
       "      <td>2730.0</td>\n",
       "    </tr>\n",
       "    <tr>\n",
       "      <th>3</th>\n",
       "      <td>202410301632</td>\n",
       "      <td>2</td>\n",
       "      <td>Leg Curls on Leg Extension Machine</td>\n",
       "      <td>Machine</td>\n",
       "      <td>Lower Body</td>\n",
       "      <td>Leg Curl</td>\n",
       "      <td>Hams</td>\n",
       "      <td>12</td>\n",
       "      <td>reps</td>\n",
       "      <td>1</td>\n",
       "      <td>25.0</td>\n",
       "      <td>12</td>\n",
       "      <td>300.0</td>\n",
       "    </tr>\n",
       "    <tr>\n",
       "      <th>4</th>\n",
       "      <td>202410301632</td>\n",
       "      <td>2</td>\n",
       "      <td>Leg Curls on Leg Extension Machine</td>\n",
       "      <td>Machine</td>\n",
       "      <td>Lower Body</td>\n",
       "      <td>Leg Curl</td>\n",
       "      <td>Hams</td>\n",
       "      <td>12</td>\n",
       "      <td>reps</td>\n",
       "      <td>2</td>\n",
       "      <td>25.0</td>\n",
       "      <td>12</td>\n",
       "      <td>300.0</td>\n",
       "    </tr>\n",
       "  </tbody>\n",
       "</table>\n",
       "</div>"
      ],
      "text/plain": [
       "     workout_id  exercise_number                       exercise_name  \\\n",
       "0  202410301632                1                           Leg Press   \n",
       "1  202410301632                1                           Leg Press   \n",
       "2  202410301632                1                           Leg Press   \n",
       "3  202410301632                2  Leg Curls on Leg Extension Machine   \n",
       "4  202410301632                2  Leg Curls on Leg Extension Machine   \n",
       "\n",
       "  equipment muscle_group exercise_group main_muscle  goal measure  set_number  \\\n",
       "0   Machine   Lower Body      Leg Press       Quads    12    reps           1   \n",
       "1   Machine   Lower Body      Leg Press       Quads    12    reps           2   \n",
       "2   Machine   Lower Body      Leg Press       Quads    12    reps           3   \n",
       "3   Machine   Lower Body       Leg Curl        Hams    12    reps           1   \n",
       "4   Machine   Lower Body       Leg Curl        Hams    12    reps           2   \n",
       "\n",
       "   weight  quantity  volume  \n",
       "0   210.0        15  3150.0  \n",
       "1   210.0        15  3150.0  \n",
       "2   210.0        13  2730.0  \n",
       "3    25.0        12   300.0  \n",
       "4    25.0        12   300.0  "
      ]
     },
     "execution_count": 71,
     "metadata": {},
     "output_type": "execute_result"
    }
   ],
   "source": [
    "df_single_sets.head()"
   ]
  },
  {
   "cell_type": "markdown",
   "metadata": {},
   "source": [
    "## Complete Sets"
   ]
  },
  {
   "cell_type": "code",
   "execution_count": 72,
   "metadata": {},
   "outputs": [],
   "source": [
    "df_complete_sets = (\n",
    "   df_single_sets\n",
    "   .groupby([\n",
    "      'workout_id', \n",
    "      'exercise_number', \n",
    "      'exercise_name', \n",
    "      'equipment', \n",
    "      'muscle_group', \n",
    "      'exercise_group', \n",
    "      'main_muscle', \n",
    "      'goal', \n",
    "      'measure'])\n",
    "   .agg(\n",
    "      sets = ('set_number', 'max'),\n",
    "      min_weight = ('weight', 'min'),\n",
    "      max_weight = ('weight', 'max'),\n",
    "      avg_weight = ('weight', lambda x: round(x.mean(), 1)),\n",
    "      stdev_weight = ('weight', lambda x: round(x.std(), 1)),\n",
    "      min_quantity = ('quantity', 'min'),\n",
    "      max_quantity = ('quantity', 'max'),\n",
    "      avg_quantity = ('quantity', lambda x: round(x.mean(), 1)),\n",
    "      stdev_quantity = ('quantity', lambda x: round(x.std(), 1)),\n",
    "      total_quantity = ('quantity', 'sum'),\n",
    "      total_volume = ('volume', 'sum'))\n",
    "   .reset_index()\n",
    ")"
   ]
  },
  {
   "cell_type": "code",
   "execution_count": 74,
   "metadata": {},
   "outputs": [],
   "source": [
    "#df_complete_sets"
   ]
  },
  {
   "cell_type": "markdown",
   "metadata": {},
   "source": [
    "## Workouts"
   ]
  },
  {
   "cell_type": "markdown",
   "metadata": {},
   "source": [
    "# Save"
   ]
  },
  {
   "cell_type": "code",
   "execution_count": 77,
   "metadata": {},
   "outputs": [],
   "source": [
    "df_single_sets.to_csv(f\"{VIEWS_FOLDER}/single_sets.csv\", sep=\";\", decimal=',', index=False)\n",
    "df_complete_sets.to_csv(f\"{VIEWS_FOLDER}/complete_sets.csv\", sep=\";\", decimal=',', index=False)"
   ]
  }
 ],
 "metadata": {
  "kernelspec": {
   "display_name": "Python 3",
   "language": "python",
   "name": "python3"
  },
  "language_info": {
   "codemirror_mode": {
    "name": "ipython",
    "version": 3
   },
   "file_extension": ".py",
   "mimetype": "text/x-python",
   "name": "python",
   "nbconvert_exporter": "python",
   "pygments_lexer": "ipython3",
   "version": "3.11.2"
  }
 },
 "nbformat": 4,
 "nbformat_minor": 2
}
